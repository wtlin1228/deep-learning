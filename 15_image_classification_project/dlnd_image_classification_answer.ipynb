{
 "cells": [
  {
   "cell_type": "markdown",
   "metadata": {
    "collapsed": true
   },
   "source": [
    "# Image Classification\n",
    "In this project, you'll classify images from the [CIFAR-10 dataset](https://www.cs.toronto.edu/~kriz/cifar.html).  The dataset consists of airplanes, dogs, cats, and other objects. You'll preprocess the images, then train a convolutional neural network on all the samples. The images need to be normalized and the labels need to be one-hot encoded.  You'll get to apply what you learned and build a convolutional, max pooling, dropout, and fully connected layers.  At the end, you'll get to see your neural network's predictions on the sample images.\n",
    "## Get the Data\n",
    "Run the following cell to download the [CIFAR-10 dataset for python](https://www.cs.toronto.edu/~kriz/cifar-10-python.tar.gz)."
   ]
  },
  {
   "cell_type": "code",
   "execution_count": 1,
   "metadata": {},
   "outputs": [
    {
     "name": "stdout",
     "output_type": "stream",
     "text": [
      "All files found!\n"
     ]
    }
   ],
   "source": [
    "\"\"\"\n",
    "DON'T MODIFY ANYTHING IN THIS CELL THAT IS BELOW THIS LINE\n",
    "\"\"\"\n",
    "from urllib.request import urlretrieve\n",
    "from os.path import isfile, isdir\n",
    "from tqdm import tqdm\n",
    "import problem_unittests as tests\n",
    "import tarfile\n",
    "\n",
    "cifar10_dataset_folder_path = 'cifar-10-batches-py'\n",
    "\n",
    "# Use Floyd's cifar-10 dataset if present\n",
    "floyd_cifar10_location = '/cifar/cifar-10-python.tar.gz'\n",
    "if isfile(floyd_cifar10_location):\n",
    "    tar_gz_path = floyd_cifar10_location\n",
    "else:\n",
    "    tar_gz_path = 'cifar-10-python.tar.gz'\n",
    "\n",
    "class DLProgress(tqdm):\n",
    "    last_block = 0\n",
    "\n",
    "    def hook(self, block_num=1, block_size=1, total_size=None):\n",
    "        self.total = total_size\n",
    "        self.update((block_num - self.last_block) * block_size)\n",
    "        self.last_block = block_num\n",
    "\n",
    "if not isfile(tar_gz_path):\n",
    "    with DLProgress(unit='B', unit_scale=True, miniters=1, desc='CIFAR-10 Dataset') as pbar:\n",
    "        urlretrieve(\n",
    "            'https://www.cs.toronto.edu/~kriz/cifar-10-python.tar.gz',\n",
    "            tar_gz_path,\n",
    "            pbar.hook)\n",
    "\n",
    "if not isdir(cifar10_dataset_folder_path):\n",
    "    with tarfile.open(tar_gz_path) as tar:\n",
    "        tar.extractall()\n",
    "        tar.close()\n",
    "\n",
    "\n",
    "tests.test_folder_path(cifar10_dataset_folder_path)"
   ]
  },
  {
   "cell_type": "markdown",
   "metadata": {},
   "source": [
    "## Explore the Data\n",
    "The dataset is broken into batches to prevent your machine from running out of memory.  The CIFAR-10 dataset consists of 5 batches, named `data_batch_1`, `data_batch_2`, etc.. Each batch contains the labels and images that are one of the following:\n",
    "* airplane\n",
    "* automobile\n",
    "* bird\n",
    "* cat\n",
    "* deer\n",
    "* dog\n",
    "* frog\n",
    "* horse\n",
    "* ship\n",
    "* truck\n",
    "\n",
    "Understanding a dataset is part of making predictions on the data.  Play around with the code cell below by changing the `batch_id` and `sample_id`. The `batch_id` is the id for a batch (1-5). The `sample_id` is the id for a image and label pair in the batch.\n",
    "\n",
    "Ask yourself \"What are all possible labels?\", \"What is the range of values for the image data?\", \"Are the labels in order or random?\".  Answers to questions like these will help you preprocess the data and end up with better predictions."
   ]
  },
  {
   "cell_type": "code",
   "execution_count": 2,
   "metadata": {},
   "outputs": [
    {
     "name": "stdout",
     "output_type": "stream",
     "text": [
      "\n",
      "Stats of batch 1:\n",
      "Samples: 10000\n",
      "Label Counts: {0: 1005, 1: 974, 2: 1032, 3: 1016, 4: 999, 5: 937, 6: 1030, 7: 1001, 8: 1025, 9: 981}\n",
      "First 20 Labels: [6, 9, 9, 4, 1, 1, 2, 7, 8, 3, 4, 7, 7, 2, 9, 9, 9, 3, 2, 6]\n",
      "\n",
      "Example of Image 5:\n",
      "Image - Min Value: 0 Max Value: 252\n",
      "Image - Shape: (32, 32, 3)\n",
      "Label - Label Id: 1 Name: automobile\n"
     ]
    },
    {
     "data": {
      "image/png": "[encoded data removed]",
      "text/plain": [
       "<matplotlib.figure.Figure at 0x10ae7eb38>"
      ]
     },
     "metadata": {
      "image/png": {
       "height": 250,
       "width": 253
      }
     },
     "output_type": "display_data"
    }
   ],
   "source": [
    "%matplotlib inline\n",
    "%config InlineBackend.figure_format = 'retina'\n",
    "\n",
    "import helper\n",
    "import numpy as np\n",
    "\n",
    "# Explore the dataset\n",
    "batch_id = 1\n",
    "sample_id = 5\n",
    "helper.display_stats(cifar10_dataset_folder_path, batch_id, sample_id)"
   ]
  },
  {
   "cell_type": "markdown",
   "metadata": {},
   "source": [
    "## Implement Preprocess Functions\n",
    "### Normalize\n",
    "In the cell below, implement the `normalize` function to take in image data, `x`, and return it as a normalized Numpy array. The values should be in the range of 0 to 1, inclusive.  The return object should be the same shape as `x`."
   ]
  },
  {
   "cell_type": "code",
   "execution_count": 3,
   "metadata": {},
   "outputs": [
    {
     "name": "stdout",
     "output_type": "stream",
     "text": [
      "Tests Passed\n"
     ]
    }
   ],
   "source": [
    "def normalize(x):\n",
    "    \"\"\"\n",
    "    Normalize a list of sample image data in the range of 0 to 1\n",
    "    : x: List of image data.  The image shape is (32, 32, 3)\n",
    "    : return: Numpy array of normalize data\n",
    "    \"\"\"\n",
    "    # TODO: Implement Function\n",
    "    return x / 255.0\n",
    "\n",
    "\n",
    "\"\"\"\n",
    "DON'T MODIFY ANYTHING IN THIS CELL THAT IS BELOW THIS LINE\n",
    "\"\"\"\n",
    "tests.test_normalize(normalize)"
   ]
  },
  {
   "cell_type": "markdown",
   "metadata": {},
   "source": [
    "### One-hot encode\n",
    "Just like the previous code cell, you'll be implementing a function for preprocessing.  This time, you'll implement the `one_hot_encode` function. The input, `x`, are a list of labels.  Implement the function to return the list of labels as One-Hot encoded Numpy array.  The possible values for labels are 0 to 9. The one-hot encoding function should return the same encoding for each value between each call to `one_hot_encode`.  Make sure to save the map of encodings outside the function.\n",
    "\n",
    "Hint: Don't reinvent the wheel."
   ]
  },
  {
   "cell_type": "code",
   "execution_count": 4,
   "metadata": {},
   "outputs": [
    {
     "name": "stdout",
     "output_type": "stream",
     "text": [
      "Tests Passed\n"
     ]
    }
   ],
   "source": [
    "def one_hot_encode(x):\n",
    "    \"\"\"\n",
    "    One hot encode a list of sample labels. Return a one-hot encoded vector for each label.\n",
    "    : x: List of sample Labels\n",
    "    : return: Numpy array of one-hot encoded labels\n",
    "    \"\"\"\n",
    "    # TODO: Implement Function\n",
    "    return np.eye(10)[x]\n",
    "\n",
    "\n",
    "\"\"\"\n",
    "DON'T MODIFY ANYTHING IN THIS CELL THAT IS BELOW THIS LINE\n",
    "\"\"\"\n",
    "tests.test_one_hot_encode(one_hot_encode)"
   ]
  },
  {
   "cell_type": "markdown",
   "metadata": {},
   "source": [
    "### Randomize Data\n",
    "As you saw from exploring the data above, the order of the samples are randomized.  It doesn't hurt to randomize it again, but you don't need to for this dataset."
   ]
  },
  {
   "cell_type": "markdown",
   "metadata": {},
   "source": [
    "## Preprocess all the data and save it\n",
    "Running the code cell below will preprocess all the CIFAR-10 data and save it to file. The code below also uses 10% of the training data for validation."
   ]
  },
  {
   "cell_type": "code",
   "execution_count": 5,
   "metadata": {
    "collapsed": true
   },
   "outputs": [],
   "source": [
    "\"\"\"\n",
    "DON'T MODIFY ANYTHING IN THIS CELL\n",
    "\"\"\"\n",
    "# Preprocess Training, Validation, and Testing Data\n",
    "helper.preprocess_and_save_data(cifar10_dataset_folder_path, normalize, one_hot_encode)"
   ]
  },
  {
   "cell_type": "markdown",
   "metadata": {},
   "source": [
    "# Check Point\n",
    "This is your first checkpoint.  If you ever decide to come back to this notebook or have to restart the notebook, you can start from here.  The preprocessed data has been saved to disk."
   ]
  },
  {
   "cell_type": "code",
   "execution_count": 6,
   "metadata": {
    "collapsed": true
   },
   "outputs": [],
   "source": [
    "\"\"\"\n",
    "DON'T MODIFY ANYTHING IN THIS CELL\n",
    "\"\"\"\n",
    "import pickle\n",
    "import problem_unittests as tests\n",
    "import helper\n",
    "\n",
    "# Load the Preprocessed Validation data\n",
    "valid_features, valid_labels = pickle.load(open('preprocess_validation.p', mode='rb'))"
   ]
  },
  {
   "cell_type": "markdown",
   "metadata": {},
   "source": [
    "## Build the network\n",
    "For the neural network, you'll build each layer into a function.  Most of the code you've seen has been outside of functions. To test your code more thoroughly, we require that you put each layer in a function.  This allows us to give you better feedback and test for simple mistakes using our unittests before you submit your project.\n",
    "\n",
    ">**Note:** If you're finding it hard to dedicate enough time for this course each week, we've provided a small shortcut to this part of the project. In the next couple of problems, you'll have the option to use classes from the [TensorFlow Layers](https://www.tensorflow.org/api_docs/python/tf/layers) or [TensorFlow Layers (contrib)](https://www.tensorflow.org/api_guides/python/contrib.layers) packages to build each layer, except the layers you build in the \"Convolutional and Max Pooling Layer\" section.  TF Layers is similar to Keras's and TFLearn's abstraction to layers, so it's easy to pickup.\n",
    "\n",
    ">However, if you would like to get the most out of this course, try to solve all the problems _without_ using anything from the TF Layers packages. You **can** still use classes from other packages that happen to have the same name as ones you find in TF Layers! For example, instead of using the TF Layers version of the `conv2d` class, [tf.layers.conv2d](https://www.tensorflow.org/api_docs/python/tf/layers/conv2d), you would want to use the TF Neural Network version of `conv2d`, [tf.nn.conv2d](https://www.tensorflow.org/api_docs/python/tf/nn/conv2d). \n",
    "\n",
    "Let's begin!\n",
    "\n",
    "### Input\n",
    "The neural network needs to read the image data, one-hot encoded labels, and dropout keep probability. Implement the following functions\n",
    "* Implement `neural_net_image_input`\n",
    " * Return a [TF Placeholder](https://www.tensorflow.org/api_docs/python/tf/placeholder)\n",
    " * Set the shape using `image_shape` with batch size set to `None`.\n",
    " * Name the TensorFlow placeholder \"x\" using the TensorFlow `name` parameter in the [TF Placeholder](https://www.tensorflow.org/api_docs/python/tf/placeholder).\n",
    "* Implement `neural_net_label_input`\n",
    " * Return a [TF Placeholder](https://www.tensorflow.org/api_docs/python/tf/placeholder)\n",
    " * Set the shape using `n_classes` with batch size set to `None`.\n",
    " * Name the TensorFlow placeholder \"y\" using the TensorFlow `name` parameter in the [TF Placeholder](https://www.tensorflow.org/api_docs/python/tf/placeholder).\n",
    "* Implement `neural_net_keep_prob_input`\n",
    " * Return a [TF Placeholder](https://www.tensorflow.org/api_docs/python/tf/placeholder) for dropout keep probability.\n",
    " * Name the TensorFlow placeholder \"keep_prob\" using the TensorFlow `name` parameter in the [TF Placeholder](https://www.tensorflow.org/api_docs/python/tf/placeholder).\n",
    "\n",
    "These names will be used at the end of the project to load your saved model.\n",
    "\n",
    "Note: `None` for shapes in TensorFlow allow for a dynamic size."
   ]
  },
  {
   "cell_type": "code",
   "execution_count": 7,
   "metadata": {},
   "outputs": [
    {
     "name": "stdout",
     "output_type": "stream",
     "text": [
      "Image Input Tests Passed.\n",
      "Label Input Tests Passed.\n",
      "Keep Prob Tests Passed.\n"
     ]
    }
   ],
   "source": [
    "import tensorflow as tf\n",
    "\n",
    "def neural_net_image_input(image_shape):\n",
    "    \"\"\"\n",
    "    Return a Tensor for a batch of image input\n",
    "    : image_shape: Shape of the images\n",
    "    : return: Tensor for image input.\n",
    "    \"\"\"\n",
    "    # TODO: Implement Function\n",
    "    return tf.placeholder(tf.float32, shape=[None, image_shape[0], image_shape[1], image_shape[2]], name='x')\n",
    "\n",
    "\n",
    "def neural_net_label_input(n_classes):\n",
    "    \"\"\"\n",
    "    Return a Tensor for a batch of label input\n",
    "    : n_classes: Number of classes\n",
    "    : return: Tensor for label input.\n",
    "    \"\"\"\n",
    "    # TODO: Implement Function\n",
    "    return tf.placeholder(tf.float32, shape=[None, n_classes], name='y')\n",
    "\n",
    "\n",
    "def neural_net_keep_prob_input():\n",
    "    \"\"\"\n",
    "    Return a Tensor for keep probability\n",
    "    : return: Tensor for keep probability.\n",
    "    \"\"\"\n",
    "    # TODO: Implement Function\n",
    "    return tf.placeholder(tf.float32, name='keep_prob')\n",
    "\n",
    "\n",
    "\"\"\"\n",
    "DON'T MODIFY ANYTHING IN THIS CELL THAT IS BELOW THIS LINE\n",
    "\"\"\"\n",
    "tf.reset_default_graph()\n",
    "tests.test_nn_image_inputs(neural_net_image_input)\n",
    "tests.test_nn_label_inputs(neural_net_label_input)\n",
    "tests.test_nn_keep_prob_inputs(neural_net_keep_prob_input)"
   ]
  },
  {
   "cell_type": "markdown",
   "metadata": {},
   "source": [
    "### Convolution and Max Pooling Layer\n",
    "Convolution layers have a lot of success with images. For this code cell, you should implement the function `conv2d_maxpool` to apply convolution then max pooling:\n",
    "* Create the weight and bias using `conv_ksize`, `conv_num_outputs` and the shape of `x_tensor`.\n",
    "* Apply a convolution to `x_tensor` using weight and `conv_strides`.\n",
    " * We recommend you use same padding, but you're welcome to use any padding.\n",
    "* Add bias\n",
    "* Add a nonlinear activation to the convolution.\n",
    "* Apply Max Pooling using `pool_ksize` and `pool_strides`.\n",
    " * We recommend you use same padding, but you're welcome to use any padding.\n",
    "\n",
    "**Note:** You **can't** use [TensorFlow Layers](https://www.tensorflow.org/api_docs/python/tf/layers) or [TensorFlow Layers (contrib)](https://www.tensorflow.org/api_guides/python/contrib.layers) for **this** layer, but you can still use TensorFlow's [Neural Network](https://www.tensorflow.org/api_docs/python/tf/nn) package. You may still use the shortcut option for all the **other** layers."
   ]
  },
  {
   "cell_type": "code",
   "execution_count": 9,
   "metadata": {},
   "outputs": [
    {
     "name": "stdout",
     "output_type": "stream",
     "text": [
      "Tests Passed\n"
     ]
    }
   ],
   "source": [
    "def conv2d_maxpool(x_tensor, conv_num_outputs, conv_ksize, conv_strides, pool_ksize, pool_strides):\n",
    "    \"\"\"\n",
    "    Apply convolution then max pooling to x_tensor\n",
    "    :param x_tensor: TensorFlow Tensor\n",
    "    :param conv_num_outputs: Number of outputs for the convolutional layer\n",
    "    :param conv_ksize: kernal size 2-D Tuple for the convolutional layer\n",
    "    :param conv_strides: Stride 2-D Tuple for convolution\n",
    "    :param pool_ksize: kernal size 2-D Tuple for pool\n",
    "    :param pool_strides: Stride 2-D Tuple for pool\n",
    "    : return: A tensor that represents convolution and max pooling of x_tensor\n",
    "    \"\"\"\n",
    "    # TODO: Implement Function\n",
    "    depth = x_tensor.shape[3].value\n",
    "    weight = tf.Variable(tf.truncated_normal(\n",
    "        shape=[conv_ksize[0], conv_ksize[1], depth, conv_num_outputs], \n",
    "        mean=0, \n",
    "        stddev=0.1)\n",
    "    )\n",
    "    bias = tf.Variable(tf.zeros(conv_num_outputs))\n",
    "    \n",
    "    conv_layer = tf.nn.conv2d(x_tensor, weight, strides=[1, conv_strides[0], conv_strides[1], 1], padding='SAME')\n",
    "    conv_layer = tf.nn.bias_add(conv_layer, bias)\n",
    "    conv_layer = tf.nn.relu(conv_layer)\n",
    "    maxpool_layer = tf.nn.max_pool(conv_layer, [1, pool_ksize[0], pool_ksize[1], 1], [1, pool_strides[0], pool_strides[1], 1], padding='SAME')\n",
    "    \n",
    "    return maxpool_layer \n",
    "\n",
    "\n",
    "\"\"\"\n",
    "DON'T MODIFY ANYTHING IN THIS CELL THAT IS BELOW THIS LINE\n",
    "\"\"\"\n",
    "tests.test_con_pool(conv2d_maxpool)"
   ]
  },
  {
   "cell_type": "markdown",
   "metadata": {},
   "source": [
    "### Flatten Layer\n",
    "Implement the `flatten` function to change the dimension of `x_tensor` from a 4-D tensor to a 2-D tensor.  The output should be the shape (*Batch Size*, *Flattened Image Size*). Shortcut option: you can use classes from the [TensorFlow Layers](https://www.tensorflow.org/api_docs/python/tf/layers) or [TensorFlow Layers (contrib)](https://www.tensorflow.org/api_guides/python/contrib.layers) packages for this layer. For more of a challenge, only use other TensorFlow packages."
   ]
  },
  {
   "cell_type": "code",
   "execution_count": 12,
   "metadata": {},
   "outputs": [
    {
     "name": "stdout",
     "output_type": "stream",
     "text": [
      "Tests Passed\n"
     ]
    }
   ],
   "source": [
    "def flatten(x_tensor):\n",
    "    \"\"\"\n",
    "    Flatten x_tensor to (Batch Size, Flattened Image Size)\n",
    "    : x_tensor: A tensor of size (Batch Size, ...), where ... are the image dimensions.\n",
    "    : return: A tensor of size (Batch Size, Flattened Image Size).\n",
    "    \"\"\"\n",
    "    # TODO: Implement Function\n",
    "    return tf.contrib.layers.flatten(x_tensor)\n",
    "\n",
    "\n",
    "\"\"\"\n",
    "DON'T MODIFY ANYTHING IN THIS CELL THAT IS BELOW THIS LINE\n",
    "\"\"\"\n",
    "tests.test_flatten(flatten)"
   ]
  },
  {
   "cell_type": "markdown",
   "metadata": {},
   "source": [
    "### Fully-Connected Layer\n",
    "Implement the `fully_conn` function to apply a fully connected layer to `x_tensor` with the shape (*Batch Size*, *num_outputs*). Shortcut option: you can use classes from the [TensorFlow Layers](https://www.tensorflow.org/api_docs/python/tf/layers) or [TensorFlow Layers (contrib)](https://www.tensorflow.org/api_guides/python/contrib.layers) packages for this layer. For more of a challenge, only use other TensorFlow packages."
   ]
  },
  {
   "cell_type": "code",
   "execution_count": 22,
   "metadata": {},
   "outputs": [
    {
     "name": "stdout",
     "output_type": "stream",
     "text": [
      "Tests Passed\n"
     ]
    }
   ],
   "source": [
    "def fully_conn(x_tensor, num_outputs):\n",
    "    \"\"\"\n",
    "    Apply a fully connected layer to x_tensor using weight and bias\n",
    "    : x_tensor: A 2-D tensor where the first dimension is batch size.\n",
    "    : num_outputs: The number of output that the new tensor should be.\n",
    "    : return: A 2-D tensor where the second dimension is num_outputs.\n",
    "    \"\"\"\n",
    "    # TODO: Implement Function\n",
    "    input_shape = x_tensor.shape[1].value\n",
    "    weight = tf.Variable(tf.truncated_normal(shape=[input_shape, num_outputs], mean=0, stddev=0.1))\n",
    "    bias = tf.Variable(tf.zeros(shape=[num_outputs]))\n",
    "    \n",
    "    output_layer = tf.matmul(x_tensor, weight)\n",
    "    output_layer = tf.nn.bias_add(output_layer, bias)\n",
    "    output_layer = tf.nn.relu(output_layer)\n",
    "    \n",
    "    return output_layer\n",
    "\n",
    "\n",
    "\"\"\"\n",
    "DON'T MODIFY ANYTHING IN THIS CELL THAT IS BELOW THIS LINE\n",
    "\"\"\"\n",
    "tests.test_fully_conn(fully_conn)"
   ]
  },
  {
   "cell_type": "markdown",
   "metadata": {},
   "source": [
    "### Output Layer\n",
    "Implement the `output` function to apply a fully connected layer to `x_tensor` with the shape (*Batch Size*, *num_outputs*). Shortcut option: you can use classes from the [TensorFlow Layers](https://www.tensorflow.org/api_docs/python/tf/layers) or [TensorFlow Layers (contrib)](https://www.tensorflow.org/api_guides/python/contrib.layers) packages for this layer. For more of a challenge, only use other TensorFlow packages.\n",
    "\n",
    "**Note:** Activation, softmax, or cross entropy should **not** be applied to this."
   ]
  },
  {
   "cell_type": "code",
   "execution_count": 23,
   "metadata": {},
   "outputs": [
    {
     "name": "stdout",
     "output_type": "stream",
     "text": [
      "Tests Passed\n"
     ]
    }
   ],
   "source": [
    "def output(x_tensor, num_outputs):\n",
    "    \"\"\"\n",
    "    Apply a output layer to x_tensor using weight and bias\n",
    "    : x_tensor: A 2-D tensor where the first dimension is batch size.\n",
    "    : num_outputs: The number of output that the new tensor should be.\n",
    "    : return: A 2-D tensor where the second dimension is num_outputs.\n",
    "    \"\"\"\n",
    "    # TODO: Implement Function\n",
    "    input_shape = x_tensor.shape[1].value\n",
    "    weight = tf.Variable(tf.truncated_normal(shape=[input_shape, num_outputs], mean=0, stddev=0.1))\n",
    "    bias = tf.Variable(tf.zeros(shape=[num_outputs]))\n",
    "    \n",
    "    output_layer = tf.matmul(x_tensor, weight)\n",
    "    output_layer = tf.nn.bias_add(output_layer, bias)\n",
    "    \n",
    "    return output_layer\n",
    "\n",
    "\n",
    "\"\"\"\n",
    "DON'T MODIFY ANYTHING IN THIS CELL THAT IS BELOW THIS LINE\n",
    "\"\"\"\n",
    "tests.test_output(output)"
   ]
  },
  {
   "cell_type": "markdown",
   "metadata": {},
   "source": [
    "### Create Convolutional Model\n",
    "Implement the function `conv_net` to create a convolutional neural network model. The function takes in a batch of images, `x`, and outputs logits.  Use the layers you created above to create this model:\n",
    "\n",
    "* Apply 1, 2, or 3 Convolution and Max Pool layers\n",
    "* Apply a Flatten Layer\n",
    "* Apply 1, 2, or 3 Fully Connected Layers\n",
    "* Apply an Output Layer\n",
    "* Return the output\n",
    "* Apply [TensorFlow's Dropout](https://www.tensorflow.org/api_docs/python/tf/nn/dropout) to one or more layers in the model using `keep_prob`. "
   ]
  },
  {
   "cell_type": "code",
   "execution_count": 27,
   "metadata": {},
   "outputs": [
    {
     "name": "stdout",
     "output_type": "stream",
     "text": [
      "Neural Network Built!\n"
     ]
    }
   ],
   "source": [
    "def conv_net(x, keep_prob):\n",
    "    \"\"\"\n",
    "    Create a convolutional neural network model\n",
    "    : x: Placeholder tensor that holds image data.\n",
    "    : keep_prob: Placeholder tensor that hold dropout keep probability.\n",
    "    : return: Tensor that represents logits\n",
    "    \"\"\"\n",
    "    \n",
    "    conv_ksize = [4, 4]\n",
    "    conv_strides = [1, 1]\n",
    "    pool_ksize = [2, 2]\n",
    "    pool_strides = [2, 2]\n",
    "    \n",
    "    # TODO: Apply 1, 2, or 3 Convolution and Max Pool layers\n",
    "    #    Play around with different number of outputs, kernel size and stride\n",
    "    # Function Definition from Above:\n",
    "    #    conv2d_maxpool(x_tensor, conv_num_outputs, conv_ksize, conv_strides, pool_ksize, pool_strides)\n",
    "    layer1 = conv2d_maxpool(x, 16, conv_ksize, conv_strides, pool_ksize, pool_strides)\n",
    "    layer2 = conv2d_maxpool(layer1, 32, conv_ksize, conv_strides, pool_ksize, pool_strides)\n",
    "    layer3 = conv2d_maxpool(layer2, 64, conv_ksize, conv_strides, pool_ksize, pool_strides)\n",
    "    \n",
    "    # TODO: Apply a Flatten Layer\n",
    "    # Function Definition from Above:\n",
    "    #   flatten(x_tensor)\n",
    "    flaten_layer = flatten(layer3)\n",
    "\n",
    "    # TODO: Apply 1, 2, or 3 Fully Connected Layers\n",
    "    #    Play around with different number of outputs\n",
    "    # Function Definition from Above:\n",
    "    #   fully_conn(x_tensor, num_outputs)\n",
    "    fully_connected = fully_conn(flaten_layer, 10)\n",
    "    fully_connected = tf.nn.dropout(fully_connected, keep_prob)\n",
    "\n",
    "    # TODO: Apply an Output Layer\n",
    "    #    Set this to the number of classes\n",
    "    # Function Definition from Above:\n",
    "    #   output(x_tensor, num_outputs)\n",
    "    output_layer = output(fully_connected, 10)\n",
    "    \n",
    "    # TODO: return output\n",
    "    return output_layer\n",
    "\n",
    "\n",
    "\"\"\"\n",
    "DON'T MODIFY ANYTHING IN THIS CELL THAT IS BELOW THIS LINE\n",
    "\"\"\"\n",
    "\n",
    "##############################\n",
    "## Build the Neural Network ##\n",
    "##############################\n",
    "\n",
    "# Remove previous weights, bias, inputs, etc..\n",
    "tf.reset_default_graph()\n",
    "\n",
    "# Inputs\n",
    "x = neural_net_image_input((32, 32, 3))\n",
    "y = neural_net_label_input(10)\n",
    "keep_prob = neural_net_keep_prob_input()\n",
    "\n",
    "# Model\n",
    "logits = conv_net(x, keep_prob)\n",
    "\n",
    "# Name logits Tensor, so that is can be loaded from disk after training\n",
    "logits = tf.identity(logits, name='logits')\n",
    "\n",
    "# Loss and Optimizer\n",
    "cost = tf.reduce_mean(tf.nn.softmax_cross_entropy_with_logits(logits=logits, labels=y))\n",
    "optimizer = tf.train.AdamOptimizer().minimize(cost)\n",
    "\n",
    "# Accuracy\n",
    "correct_pred = tf.equal(tf.argmax(logits, 1), tf.argmax(y, 1))\n",
    "accuracy = tf.reduce_mean(tf.cast(correct_pred, tf.float32), name='accuracy')\n",
    "\n",
    "tests.test_conv_net(conv_net)"
   ]
  },
  {
   "cell_type": "markdown",
   "metadata": {},
   "source": [
    "## Train the Neural Network\n",
    "### Single Optimization\n",
    "Implement the function `train_neural_network` to do a single optimization.  The optimization should use `optimizer` to optimize in `session` with a `feed_dict` of the following:\n",
    "* `x` for image input\n",
    "* `y` for labels\n",
    "* `keep_prob` for keep probability for dropout\n",
    "\n",
    "This function will be called for each batch, so `tf.global_variables_initializer()` has already been called.\n",
    "\n",
    "Note: Nothing needs to be returned. This function is only optimizing the neural network."
   ]
  },
  {
   "cell_type": "code",
   "execution_count": 28,
   "metadata": {},
   "outputs": [
    {
     "name": "stdout",
     "output_type": "stream",
     "text": [
      "Tests Passed\n"
     ]
    }
   ],
   "source": [
    "def train_neural_network(session, optimizer, keep_probability, feature_batch, label_batch):\n",
    "    \"\"\"\n",
    "    Optimize the session on a batch of images and labels\n",
    "    : session: Current TensorFlow session\n",
    "    : optimizer: TensorFlow optimizer function\n",
    "    : keep_probability: keep probability\n",
    "    : feature_batch: Batch of Numpy image data\n",
    "    : label_batch: Batch of Numpy label data\n",
    "    \"\"\"\n",
    "    # TODO: Implement Function\n",
    "    session.run(optimizer, feed_dict={\n",
    "        x: feature_batch,\n",
    "        y: label_batch,\n",
    "        keep_prob: keep_probability\n",
    "    })\n",
    "\n",
    "\n",
    "\"\"\"\n",
    "DON'T MODIFY ANYTHING IN THIS CELL THAT IS BELOW THIS LINE\n",
    "\"\"\"\n",
    "tests.test_train_nn(train_neural_network)"
   ]
  },
  {
   "cell_type": "markdown",
   "metadata": {},
   "source": [
    "### Show Stats\n",
    "Implement the function `print_stats` to print loss and validation accuracy.  Use the global variables `valid_features` and `valid_labels` to calculate validation accuracy.  Use a keep probability of `1.0` to calculate the loss and validation accuracy."
   ]
  },
  {
   "cell_type": "code",
   "execution_count": 29,
   "metadata": {
    "collapsed": true
   },
   "outputs": [],
   "source": [
    "def print_stats(session, feature_batch, label_batch, cost, accuracy):\n",
    "    \"\"\"\n",
    "    Print information about loss and validation accuracy\n",
    "    : session: Current TensorFlow session\n",
    "    : feature_batch: Batch of Numpy image data\n",
    "    : label_batch: Batch of Numpy label data\n",
    "    : cost: TensorFlow cost function\n",
    "    : accuracy: TensorFlow accuracy function\n",
    "    \"\"\"\n",
    "    # TODO: Implement Function\n",
    "    loss = session.run(cost, feed_dict={x: feature_batch, y: label_batch, keep_prob: 1.})\n",
    "    validation_accuracy = session.run(accuracy, feed_dict={x: valid_features, y: valid_labels, keep_prob: 1.})\n",
    "    print('Loss: {:>10.4f} Validation Accuracy: {:.6f}'.format(loss, validation_accuracy))"
   ]
  },
  {
   "cell_type": "markdown",
   "metadata": {},
   "source": [
    "### Hyperparameters\n",
    "Tune the following parameters:\n",
    "* Set `epochs` to the number of iterations until the network stops learning or start overfitting\n",
    "* Set `batch_size` to the highest number that your machine has memory for.  Most people set them to common sizes of memory:\n",
    " * 64\n",
    " * 128\n",
    " * 256\n",
    " * ...\n",
    "* Set `keep_probability` to the probability of keeping a node using dropout"
   ]
  },
  {
   "cell_type": "code",
   "execution_count": 32,
   "metadata": {
    "collapsed": true
   },
   "outputs": [],
   "source": [
    "# TODO: Tune Parameters\n",
    "epochs = 50\n",
    "batch_size = 64\n",
    "keep_probability = 0.5"
   ]
  },
  {
   "cell_type": "markdown",
   "metadata": {},
   "source": [
    "### Train on a Single CIFAR-10 Batch\n",
    "Instead of training the neural network on all the CIFAR-10 batches of data, let's use a single batch. This should save time while you iterate on the model to get a better accuracy.  Once the final validation accuracy is 50% or greater, run the model on all the data in the next section."
   ]
  },
  {
   "cell_type": "code",
   "execution_count": 33,
   "metadata": {},
   "outputs": [
    {
     "name": "stdout",
     "output_type": "stream",
     "text": [
      "Checking the Training on a Single Batch...\n",
      "Epoch  1, CIFAR-10 Batch 1:  Loss:     2.2658 Validation Accuracy: 0.188200\n",
      "Epoch  2, CIFAR-10 Batch 1:  Loss:     2.1597 Validation Accuracy: 0.221800\n",
      "Epoch  3, CIFAR-10 Batch 1:  Loss:     2.1431 Validation Accuracy: 0.268200\n",
      "Epoch  4, CIFAR-10 Batch 1:  Loss:     2.0682 Validation Accuracy: 0.282000\n",
      "Epoch  5, CIFAR-10 Batch 1:  Loss:     2.0582 Validation Accuracy: 0.281600\n",
      "Epoch  6, CIFAR-10 Batch 1:  Loss:     2.0755 Validation Accuracy: 0.286000\n",
      "Epoch  7, CIFAR-10 Batch 1:  Loss:     2.0064 Validation Accuracy: 0.282400\n",
      "Epoch  8, CIFAR-10 Batch 1:  Loss:     1.9825 Validation Accuracy: 0.286800\n",
      "Epoch  9, CIFAR-10 Batch 1:  Loss:     1.9558 Validation Accuracy: 0.303600\n",
      "Epoch 10, CIFAR-10 Batch 1:  Loss:     1.8981 Validation Accuracy: 0.295400\n",
      "Epoch 11, CIFAR-10 Batch 1:  Loss:     1.9143 Validation Accuracy: 0.295000\n",
      "Epoch 12, CIFAR-10 Batch 1:  Loss:     1.8533 Validation Accuracy: 0.302800\n",
      "Epoch 13, CIFAR-10 Batch 1:  Loss:     1.8320 Validation Accuracy: 0.316200\n",
      "Epoch 14, CIFAR-10 Batch 1:  Loss:     1.7661 Validation Accuracy: 0.325000\n",
      "Epoch 15, CIFAR-10 Batch 1:  Loss:     1.8131 Validation Accuracy: 0.313800\n",
      "Epoch 16, CIFAR-10 Batch 1:  Loss:     1.8107 Validation Accuracy: 0.345400\n",
      "Epoch 17, CIFAR-10 Batch 1:  Loss:     1.7584 Validation Accuracy: 0.327400\n"
     ]
    },
    {
     "ename": "KeyboardInterrupt",
     "evalue": "",
     "output_type": "error",
     "traceback": [
      "\u001b[0;31m---------------------------------------------------------------------------\u001b[0m",
      "\u001b[0;31mKeyboardInterrupt\u001b[0m                         Traceback (most recent call last)",
      "\u001b[0;32m<ipython-input-33-0ebd1bbc35ad>\u001b[0m in \u001b[0;36m<module>\u001b[0;34m()\u001b[0m\n\u001b[1;32m     11\u001b[0m         \u001b[0mbatch_i\u001b[0m \u001b[0;34m=\u001b[0m \u001b[0;36m1\u001b[0m\u001b[0;34m\u001b[0m\u001b[0m\n\u001b[1;32m     12\u001b[0m         \u001b[0;32mfor\u001b[0m \u001b[0mbatch_features\u001b[0m\u001b[0;34m,\u001b[0m \u001b[0mbatch_labels\u001b[0m \u001b[0;32min\u001b[0m \u001b[0mhelper\u001b[0m\u001b[0;34m.\u001b[0m\u001b[0mload_preprocess_training_batch\u001b[0m\u001b[0;34m(\u001b[0m\u001b[0mbatch_i\u001b[0m\u001b[0;34m,\u001b[0m \u001b[0mbatch_size\u001b[0m\u001b[0;34m)\u001b[0m\u001b[0;34m:\u001b[0m\u001b[0;34m\u001b[0m\u001b[0m\n\u001b[0;32m---> 13\u001b[0;31m             \u001b[0mtrain_neural_network\u001b[0m\u001b[0;34m(\u001b[0m\u001b[0msess\u001b[0m\u001b[0;34m,\u001b[0m \u001b[0moptimizer\u001b[0m\u001b[0;34m,\u001b[0m \u001b[0mkeep_probability\u001b[0m\u001b[0;34m,\u001b[0m \u001b[0mbatch_features\u001b[0m\u001b[0;34m,\u001b[0m \u001b[0mbatch_labels\u001b[0m\u001b[0;34m)\u001b[0m\u001b[0;34m\u001b[0m\u001b[0m\n\u001b[0m\u001b[1;32m     14\u001b[0m         \u001b[0mprint\u001b[0m\u001b[0;34m(\u001b[0m\u001b[0;34m'Epoch {:>2}, CIFAR-10 Batch {}:  '\u001b[0m\u001b[0;34m.\u001b[0m\u001b[0mformat\u001b[0m\u001b[0;34m(\u001b[0m\u001b[0mepoch\u001b[0m \u001b[0;34m+\u001b[0m \u001b[0;36m1\u001b[0m\u001b[0;34m,\u001b[0m \u001b[0mbatch_i\u001b[0m\u001b[0;34m)\u001b[0m\u001b[0;34m,\u001b[0m \u001b[0mend\u001b[0m\u001b[0;34m=\u001b[0m\u001b[0;34m''\u001b[0m\u001b[0;34m)\u001b[0m\u001b[0;34m\u001b[0m\u001b[0m\n\u001b[1;32m     15\u001b[0m         \u001b[0mprint_stats\u001b[0m\u001b[0;34m(\u001b[0m\u001b[0msess\u001b[0m\u001b[0;34m,\u001b[0m \u001b[0mbatch_features\u001b[0m\u001b[0;34m,\u001b[0m \u001b[0mbatch_labels\u001b[0m\u001b[0;34m,\u001b[0m \u001b[0mcost\u001b[0m\u001b[0;34m,\u001b[0m \u001b[0maccuracy\u001b[0m\u001b[0;34m)\u001b[0m\u001b[0;34m\u001b[0m\u001b[0m\n",
      "\u001b[0;32m<ipython-input-28-adc8a0522e3f>\u001b[0m in \u001b[0;36mtrain_neural_network\u001b[0;34m(session, optimizer, keep_probability, feature_batch, label_batch)\u001b[0m\n\u001b[1;32m     12\u001b[0m         \u001b[0mx\u001b[0m\u001b[0;34m:\u001b[0m \u001b[0mfeature_batch\u001b[0m\u001b[0;34m,\u001b[0m\u001b[0;34m\u001b[0m\u001b[0m\n\u001b[1;32m     13\u001b[0m         \u001b[0my\u001b[0m\u001b[0;34m:\u001b[0m \u001b[0mlabel_batch\u001b[0m\u001b[0;34m,\u001b[0m\u001b[0;34m\u001b[0m\u001b[0m\n\u001b[0;32m---> 14\u001b[0;31m         \u001b[0mkeep_prob\u001b[0m\u001b[0;34m:\u001b[0m \u001b[0mkeep_probability\u001b[0m\u001b[0;34m\u001b[0m\u001b[0m\n\u001b[0m\u001b[1;32m     15\u001b[0m     })\n\u001b[1;32m     16\u001b[0m \u001b[0;34m\u001b[0m\u001b[0m\n",
      "\u001b[0;32m/anaconda/envs/dlnd/lib/python3.6/site-packages/tensorflow/python/client/session.py\u001b[0m in \u001b[0;36mrun\u001b[0;34m(self, fetches, feed_dict, options, run_metadata)\u001b[0m\n\u001b[1;32m    776\u001b[0m     \u001b[0;32mtry\u001b[0m\u001b[0;34m:\u001b[0m\u001b[0;34m\u001b[0m\u001b[0m\n\u001b[1;32m    777\u001b[0m       result = self._run(None, fetches, feed_dict, options_ptr,\n\u001b[0;32m--> 778\u001b[0;31m                          run_metadata_ptr)\n\u001b[0m\u001b[1;32m    779\u001b[0m       \u001b[0;32mif\u001b[0m \u001b[0mrun_metadata\u001b[0m\u001b[0;34m:\u001b[0m\u001b[0;34m\u001b[0m\u001b[0m\n\u001b[1;32m    780\u001b[0m         \u001b[0mproto_data\u001b[0m \u001b[0;34m=\u001b[0m \u001b[0mtf_session\u001b[0m\u001b[0;34m.\u001b[0m\u001b[0mTF_GetBuffer\u001b[0m\u001b[0;34m(\u001b[0m\u001b[0mrun_metadata_ptr\u001b[0m\u001b[0;34m)\u001b[0m\u001b[0;34m\u001b[0m\u001b[0m\n",
      "\u001b[0;32m/anaconda/envs/dlnd/lib/python3.6/site-packages/tensorflow/python/client/session.py\u001b[0m in \u001b[0;36m_run\u001b[0;34m(self, handle, fetches, feed_dict, options, run_metadata)\u001b[0m\n\u001b[1;32m    980\u001b[0m     \u001b[0;32mif\u001b[0m \u001b[0mfinal_fetches\u001b[0m \u001b[0;32mor\u001b[0m \u001b[0mfinal_targets\u001b[0m\u001b[0;34m:\u001b[0m\u001b[0;34m\u001b[0m\u001b[0m\n\u001b[1;32m    981\u001b[0m       results = self._do_run(handle, final_targets, final_fetches,\n\u001b[0;32m--> 982\u001b[0;31m                              feed_dict_string, options, run_metadata)\n\u001b[0m\u001b[1;32m    983\u001b[0m     \u001b[0;32melse\u001b[0m\u001b[0;34m:\u001b[0m\u001b[0;34m\u001b[0m\u001b[0m\n\u001b[1;32m    984\u001b[0m       \u001b[0mresults\u001b[0m \u001b[0;34m=\u001b[0m \u001b[0;34m[\u001b[0m\u001b[0;34m]\u001b[0m\u001b[0;34m\u001b[0m\u001b[0m\n",
      "\u001b[0;32m/anaconda/envs/dlnd/lib/python3.6/site-packages/tensorflow/python/client/session.py\u001b[0m in \u001b[0;36m_do_run\u001b[0;34m(self, handle, target_list, fetch_list, feed_dict, options, run_metadata)\u001b[0m\n\u001b[1;32m   1030\u001b[0m     \u001b[0;32mif\u001b[0m \u001b[0mhandle\u001b[0m \u001b[0;32mis\u001b[0m \u001b[0;32mNone\u001b[0m\u001b[0;34m:\u001b[0m\u001b[0;34m\u001b[0m\u001b[0m\n\u001b[1;32m   1031\u001b[0m       return self._do_call(_run_fn, self._session, feed_dict, fetch_list,\n\u001b[0;32m-> 1032\u001b[0;31m                            target_list, options, run_metadata)\n\u001b[0m\u001b[1;32m   1033\u001b[0m     \u001b[0;32melse\u001b[0m\u001b[0;34m:\u001b[0m\u001b[0;34m\u001b[0m\u001b[0m\n\u001b[1;32m   1034\u001b[0m       return self._do_call(_prun_fn, self._session, handle, feed_dict,\n",
      "\u001b[0;32m/anaconda/envs/dlnd/lib/python3.6/site-packages/tensorflow/python/client/session.py\u001b[0m in \u001b[0;36m_do_call\u001b[0;34m(self, fn, *args)\u001b[0m\n\u001b[1;32m   1037\u001b[0m   \u001b[0;32mdef\u001b[0m \u001b[0m_do_call\u001b[0m\u001b[0;34m(\u001b[0m\u001b[0mself\u001b[0m\u001b[0;34m,\u001b[0m \u001b[0mfn\u001b[0m\u001b[0;34m,\u001b[0m \u001b[0;34m*\u001b[0m\u001b[0margs\u001b[0m\u001b[0;34m)\u001b[0m\u001b[0;34m:\u001b[0m\u001b[0;34m\u001b[0m\u001b[0m\n\u001b[1;32m   1038\u001b[0m     \u001b[0;32mtry\u001b[0m\u001b[0;34m:\u001b[0m\u001b[0;34m\u001b[0m\u001b[0m\n\u001b[0;32m-> 1039\u001b[0;31m       \u001b[0;32mreturn\u001b[0m \u001b[0mfn\u001b[0m\u001b[0;34m(\u001b[0m\u001b[0;34m*\u001b[0m\u001b[0margs\u001b[0m\u001b[0;34m)\u001b[0m\u001b[0;34m\u001b[0m\u001b[0m\n\u001b[0m\u001b[1;32m   1040\u001b[0m     \u001b[0;32mexcept\u001b[0m \u001b[0merrors\u001b[0m\u001b[0;34m.\u001b[0m\u001b[0mOpError\u001b[0m \u001b[0;32mas\u001b[0m \u001b[0me\u001b[0m\u001b[0;34m:\u001b[0m\u001b[0;34m\u001b[0m\u001b[0m\n\u001b[1;32m   1041\u001b[0m       \u001b[0mmessage\u001b[0m \u001b[0;34m=\u001b[0m \u001b[0mcompat\u001b[0m\u001b[0;34m.\u001b[0m\u001b[0mas_text\u001b[0m\u001b[0;34m(\u001b[0m\u001b[0me\u001b[0m\u001b[0;34m.\u001b[0m\u001b[0mmessage\u001b[0m\u001b[0;34m)\u001b[0m\u001b[0;34m\u001b[0m\u001b[0m\n",
      "\u001b[0;32m/anaconda/envs/dlnd/lib/python3.6/site-packages/tensorflow/python/client/session.py\u001b[0m in \u001b[0;36m_run_fn\u001b[0;34m(session, feed_dict, fetch_list, target_list, options, run_metadata)\u001b[0m\n\u001b[1;32m   1019\u001b[0m         return tf_session.TF_Run(session, options,\n\u001b[1;32m   1020\u001b[0m                                  \u001b[0mfeed_dict\u001b[0m\u001b[0;34m,\u001b[0m \u001b[0mfetch_list\u001b[0m\u001b[0;34m,\u001b[0m \u001b[0mtarget_list\u001b[0m\u001b[0;34m,\u001b[0m\u001b[0;34m\u001b[0m\u001b[0m\n\u001b[0;32m-> 1021\u001b[0;31m                                  status, run_metadata)\n\u001b[0m\u001b[1;32m   1022\u001b[0m \u001b[0;34m\u001b[0m\u001b[0m\n\u001b[1;32m   1023\u001b[0m     \u001b[0;32mdef\u001b[0m \u001b[0m_prun_fn\u001b[0m\u001b[0;34m(\u001b[0m\u001b[0msession\u001b[0m\u001b[0;34m,\u001b[0m \u001b[0mhandle\u001b[0m\u001b[0;34m,\u001b[0m \u001b[0mfeed_dict\u001b[0m\u001b[0;34m,\u001b[0m \u001b[0mfetch_list\u001b[0m\u001b[0;34m)\u001b[0m\u001b[0;34m:\u001b[0m\u001b[0;34m\u001b[0m\u001b[0m\n",
      "\u001b[0;31mKeyboardInterrupt\u001b[0m: "
     ]
    }
   ],
   "source": [
    "\"\"\"\n",
    "DON'T MODIFY ANYTHING IN THIS CELL\n",
    "\"\"\"\n",
    "print('Checking the Training on a Single Batch...')\n",
    "with tf.Session() as sess:\n",
    "    # Initializing the variables\n",
    "    sess.run(tf.global_variables_initializer())\n",
    "    \n",
    "    # Training cycle\n",
    "    for epoch in range(epochs):\n",
    "        batch_i = 1\n",
    "        for batch_features, batch_labels in helper.load_preprocess_training_batch(batch_i, batch_size):\n",
    "            train_neural_network(sess, optimizer, keep_probability, batch_features, batch_labels)\n",
    "        print('Epoch {:>2}, CIFAR-10 Batch {}:  '.format(epoch + 1, batch_i), end='')\n",
    "        print_stats(sess, batch_features, batch_labels, cost, accuracy)"
   ]
  },
  {
   "cell_type": "markdown",
   "metadata": {},
   "source": [
    "### Fully Train the Model\n",
    "Now that you got a good accuracy with a single CIFAR-10 batch, try it with all five batches."
   ]
  },
  {
   "cell_type": "code",
   "execution_count": 34,
   "metadata": {},
   "outputs": [
    {
     "name": "stdout",
     "output_type": "stream",
     "text": [
      "Training...\n",
      "Epoch  1, CIFAR-10 Batch 1:  Loss:     2.2476 Validation Accuracy: 0.191000\n",
      "Epoch  1, CIFAR-10 Batch 2:  Loss:     1.9575 Validation Accuracy: 0.307600\n",
      "Epoch  1, CIFAR-10 Batch 3:  Loss:     1.7957 Validation Accuracy: 0.306200\n",
      "Epoch  1, CIFAR-10 Batch 4:  Loss:     1.9088 Validation Accuracy: 0.316200\n",
      "Epoch  1, CIFAR-10 Batch 5:  Loss:     1.8956 Validation Accuracy: 0.312800\n",
      "Epoch  2, CIFAR-10 Batch 1:  Loss:     2.0055 Validation Accuracy: 0.342200\n",
      "Epoch  2, CIFAR-10 Batch 2:  Loss:     1.8952 Validation Accuracy: 0.333800\n",
      "Epoch  2, CIFAR-10 Batch 3:  Loss:     1.6718 Validation Accuracy: 0.313000\n",
      "Epoch  2, CIFAR-10 Batch 4:  Loss:     1.8030 Validation Accuracy: 0.326000\n",
      "Epoch  2, CIFAR-10 Batch 5:  Loss:     1.8188 Validation Accuracy: 0.340600\n",
      "Epoch  3, CIFAR-10 Batch 1:  Loss:     1.8705 Validation Accuracy: 0.349600\n",
      "Epoch  3, CIFAR-10 Batch 2:  Loss:     1.7795 Validation Accuracy: 0.344600\n",
      "Epoch  3, CIFAR-10 Batch 3:  Loss:     1.5721 Validation Accuracy: 0.367800\n",
      "Epoch  3, CIFAR-10 Batch 4:  Loss:     1.7072 Validation Accuracy: 0.400400\n",
      "Epoch  3, CIFAR-10 Batch 5:  Loss:     1.7762 Validation Accuracy: 0.392000\n",
      "Epoch  4, CIFAR-10 Batch 1:  Loss:     1.7088 Validation Accuracy: 0.419600\n",
      "Epoch  4, CIFAR-10 Batch 2:  Loss:     1.7722 Validation Accuracy: 0.415600\n",
      "Epoch  4, CIFAR-10 Batch 3:  Loss:     1.5083 Validation Accuracy: 0.405600\n",
      "Epoch  4, CIFAR-10 Batch 4:  Loss:     1.6379 Validation Accuracy: 0.418000\n",
      "Epoch  4, CIFAR-10 Batch 5:  Loss:     1.6292 Validation Accuracy: 0.419200\n",
      "Epoch  5, CIFAR-10 Batch 1:  Loss:     1.6492 Validation Accuracy: 0.430400\n",
      "Epoch  5, CIFAR-10 Batch 2:  Loss:     1.6788 Validation Accuracy: 0.437000\n",
      "Epoch  5, CIFAR-10 Batch 3:  Loss:     1.3754 Validation Accuracy: 0.442000\n",
      "Epoch  5, CIFAR-10 Batch 4:  Loss:     1.6056 Validation Accuracy: 0.423600\n",
      "Epoch  5, CIFAR-10 Batch 5:  Loss:     1.6020 Validation Accuracy: 0.434800\n",
      "Epoch  6, CIFAR-10 Batch 1:  Loss:     1.5974 Validation Accuracy: 0.439400\n",
      "Epoch  6, CIFAR-10 Batch 2:  Loss:     1.6712 Validation Accuracy: 0.430200\n",
      "Epoch  6, CIFAR-10 Batch 3:  Loss:     1.3452 Validation Accuracy: 0.457200\n",
      "Epoch  6, CIFAR-10 Batch 4:  Loss:     1.5701 Validation Accuracy: 0.452200\n",
      "Epoch  6, CIFAR-10 Batch 5:  Loss:     1.5968 Validation Accuracy: 0.442600\n",
      "Epoch  7, CIFAR-10 Batch 1:  Loss:     1.4743 Validation Accuracy: 0.441400\n",
      "Epoch  7, CIFAR-10 Batch 2:  Loss:     1.6643 Validation Accuracy: 0.430200\n",
      "Epoch  7, CIFAR-10 Batch 3:  Loss:     1.3716 Validation Accuracy: 0.441600\n",
      "Epoch  7, CIFAR-10 Batch 4:  Loss:     1.5224 Validation Accuracy: 0.450200\n",
      "Epoch  7, CIFAR-10 Batch 5:  Loss:     1.5426 Validation Accuracy: 0.407400\n",
      "Epoch  8, CIFAR-10 Batch 1:  Loss:     1.5035 Validation Accuracy: 0.442800\n",
      "Epoch  8, CIFAR-10 Batch 2:  Loss:     1.6472 Validation Accuracy: 0.455800\n",
      "Epoch  8, CIFAR-10 Batch 3:  Loss:     1.3682 Validation Accuracy: 0.466400\n",
      "Epoch  8, CIFAR-10 Batch 4:  Loss:     1.5032 Validation Accuracy: 0.461000\n",
      "Epoch  8, CIFAR-10 Batch 5:  Loss:     1.5181 Validation Accuracy: 0.456400\n",
      "Epoch  9, CIFAR-10 Batch 1:  Loss:     1.4103 Validation Accuracy: 0.466600\n",
      "Epoch  9, CIFAR-10 Batch 2:  Loss:     1.6364 Validation Accuracy: 0.477800\n",
      "Epoch  9, CIFAR-10 Batch 3:  Loss:     1.2146 Validation Accuracy: 0.485000\n",
      "Epoch  9, CIFAR-10 Batch 4:  Loss:     1.4117 Validation Accuracy: 0.489400\n",
      "Epoch  9, CIFAR-10 Batch 5:  Loss:     1.3497 Validation Accuracy: 0.494200\n",
      "Epoch 10, CIFAR-10 Batch 1:  Loss:     1.3432 Validation Accuracy: 0.499800\n",
      "Epoch 10, CIFAR-10 Batch 2:  Loss:     1.4539 Validation Accuracy: 0.516200\n",
      "Epoch 10, CIFAR-10 Batch 3:  Loss:     1.1505 Validation Accuracy: 0.523200\n",
      "Epoch 10, CIFAR-10 Batch 4:  Loss:     1.2981 Validation Accuracy: 0.515200\n",
      "Epoch 10, CIFAR-10 Batch 5:  Loss:     1.3778 Validation Accuracy: 0.502200\n",
      "Epoch 11, CIFAR-10 Batch 1:  Loss:     1.2671 Validation Accuracy: 0.512200\n",
      "Epoch 11, CIFAR-10 Batch 2:  Loss:     1.4456 Validation Accuracy: 0.532400\n",
      "Epoch 11, CIFAR-10 Batch 3:  Loss:     1.1345 Validation Accuracy: 0.535400\n",
      "Epoch 11, CIFAR-10 Batch 4:  Loss:     1.3275 Validation Accuracy: 0.518200\n",
      "Epoch 11, CIFAR-10 Batch 5:  Loss:     1.3228 Validation Accuracy: 0.505600\n",
      "Epoch 12, CIFAR-10 Batch 1:  Loss:     1.2531 Validation Accuracy: 0.514200\n",
      "Epoch 12, CIFAR-10 Batch 2:  Loss:     1.3941 Validation Accuracy: 0.546400\n",
      "Epoch 12, CIFAR-10 Batch 3:  Loss:     1.1089 Validation Accuracy: 0.542800\n",
      "Epoch 12, CIFAR-10 Batch 4:  Loss:     1.2707 Validation Accuracy: 0.514400\n",
      "Epoch 12, CIFAR-10 Batch 5:  Loss:     1.2855 Validation Accuracy: 0.534400\n",
      "Epoch 13, CIFAR-10 Batch 1:  Loss:     1.2492 Validation Accuracy: 0.516200\n",
      "Epoch 13, CIFAR-10 Batch 2:  Loss:     1.2996 Validation Accuracy: 0.549200\n",
      "Epoch 13, CIFAR-10 Batch 3:  Loss:     1.0797 Validation Accuracy: 0.544200\n",
      "Epoch 13, CIFAR-10 Batch 4:  Loss:     1.2022 Validation Accuracy: 0.530800\n",
      "Epoch 13, CIFAR-10 Batch 5:  Loss:     1.2375 Validation Accuracy: 0.526800\n",
      "Epoch 14, CIFAR-10 Batch 1:  Loss:     1.1132 Validation Accuracy: 0.541200\n",
      "Epoch 14, CIFAR-10 Batch 2:  Loss:     1.2681 Validation Accuracy: 0.553800\n",
      "Epoch 14, CIFAR-10 Batch 3:  Loss:     1.0476 Validation Accuracy: 0.557400\n",
      "Epoch 14, CIFAR-10 Batch 4:  Loss:     1.1951 Validation Accuracy: 0.544800\n",
      "Epoch 14, CIFAR-10 Batch 5:  Loss:     1.2082 Validation Accuracy: 0.534600\n",
      "Epoch 15, CIFAR-10 Batch 1:  Loss:     1.1110 Validation Accuracy: 0.548600\n",
      "Epoch 15, CIFAR-10 Batch 2:  Loss:     1.3453 Validation Accuracy: 0.532200\n",
      "Epoch 15, CIFAR-10 Batch 3:  Loss:     1.0581 Validation Accuracy: 0.544400\n",
      "Epoch 15, CIFAR-10 Batch 4:  Loss:     1.1404 Validation Accuracy: 0.551200\n",
      "Epoch 15, CIFAR-10 Batch 5:  Loss:     1.1919 Validation Accuracy: 0.531800\n",
      "Epoch 16, CIFAR-10 Batch 1:  Loss:     1.0915 Validation Accuracy: 0.553800\n",
      "Epoch 16, CIFAR-10 Batch 2:  Loss:     1.2510 Validation Accuracy: 0.547600\n",
      "Epoch 16, CIFAR-10 Batch 3:  Loss:     1.0641 Validation Accuracy: 0.547600\n",
      "Epoch 16, CIFAR-10 Batch 4:  Loss:     1.1281 Validation Accuracy: 0.551800\n",
      "Epoch 16, CIFAR-10 Batch 5:  Loss:     1.1695 Validation Accuracy: 0.533000\n",
      "Epoch 17, CIFAR-10 Batch 1:  Loss:     0.9937 Validation Accuracy: 0.557000\n",
      "Epoch 17, CIFAR-10 Batch 2:  Loss:     1.2517 Validation Accuracy: 0.551600\n",
      "Epoch 17, CIFAR-10 Batch 3:  Loss:     1.0417 Validation Accuracy: 0.557600\n",
      "Epoch 17, CIFAR-10 Batch 4:  Loss:     1.1046 Validation Accuracy: 0.565800\n",
      "Epoch 17, CIFAR-10 Batch 5:  Loss:     1.1452 Validation Accuracy: 0.541200\n",
      "Epoch 18, CIFAR-10 Batch 1:  Loss:     1.0592 Validation Accuracy: 0.541000\n",
      "Epoch 18, CIFAR-10 Batch 2:  Loss:     1.2066 Validation Accuracy: 0.551400\n",
      "Epoch 18, CIFAR-10 Batch 3:  Loss:     0.9671 Validation Accuracy: 0.557600\n",
      "Epoch 18, CIFAR-10 Batch 4:  Loss:     1.1052 Validation Accuracy: 0.557000\n",
      "Epoch 18, CIFAR-10 Batch 5:  Loss:     1.1143 Validation Accuracy: 0.546200\n",
      "Epoch 19, CIFAR-10 Batch 1:  Loss:     1.0279 Validation Accuracy: 0.562800\n",
      "Epoch 19, CIFAR-10 Batch 2:  Loss:     1.2165 Validation Accuracy: 0.553400\n",
      "Epoch 19, CIFAR-10 Batch 3:  Loss:     1.0068 Validation Accuracy: 0.557200\n",
      "Epoch 19, CIFAR-10 Batch 4:  Loss:     1.0792 Validation Accuracy: 0.567800\n",
      "Epoch 19, CIFAR-10 Batch 5:  Loss:     1.0692 Validation Accuracy: 0.556800\n",
      "Epoch 20, CIFAR-10 Batch 1:  Loss:     0.9573 Validation Accuracy: 0.559200\n",
      "Epoch 20, CIFAR-10 Batch 2:  Loss:     1.2036 Validation Accuracy: 0.559200\n",
      "Epoch 20, CIFAR-10 Batch 3:  Loss:     1.0275 Validation Accuracy: 0.556200\n",
      "Epoch 20, CIFAR-10 Batch 4:  Loss:     1.0203 Validation Accuracy: 0.574200\n",
      "Epoch 20, CIFAR-10 Batch 5:  Loss:     1.0100 Validation Accuracy: 0.559200\n",
      "Epoch 21, CIFAR-10 Batch 1:  Loss:     0.9364 Validation Accuracy: 0.575600\n",
      "Epoch 21, CIFAR-10 Batch 2:  Loss:     1.1759 Validation Accuracy: 0.564800\n",
      "Epoch 21, CIFAR-10 Batch 3:  Loss:     0.9775 Validation Accuracy: 0.574800\n",
      "Epoch 21, CIFAR-10 Batch 4:  Loss:     1.0163 Validation Accuracy: 0.564200\n",
      "Epoch 21, CIFAR-10 Batch 5:  Loss:     0.9959 Validation Accuracy: 0.542800\n",
      "Epoch 22, CIFAR-10 Batch 1:  Loss:     0.9433 Validation Accuracy: 0.558200\n",
      "Epoch 22, CIFAR-10 Batch 2:  Loss:     1.2525 Validation Accuracy: 0.544600\n",
      "Epoch 22, CIFAR-10 Batch 3:  Loss:     0.9702 Validation Accuracy: 0.575200\n"
     ]
    },
    {
     "name": "stdout",
     "output_type": "stream",
     "text": [
      "Epoch 22, CIFAR-10 Batch 4:  Loss:     1.0775 Validation Accuracy: 0.574600\n",
      "Epoch 22, CIFAR-10 Batch 5:  Loss:     0.9695 Validation Accuracy: 0.563800\n",
      "Epoch 23, CIFAR-10 Batch 1:  Loss:     0.9188 Validation Accuracy: 0.568200\n",
      "Epoch 23, CIFAR-10 Batch 2:  Loss:     1.1784 Validation Accuracy: 0.553800\n",
      "Epoch 23, CIFAR-10 Batch 3:  Loss:     0.9598 Validation Accuracy: 0.569800\n",
      "Epoch 23, CIFAR-10 Batch 4:  Loss:     1.0975 Validation Accuracy: 0.566000\n",
      "Epoch 23, CIFAR-10 Batch 5:  Loss:     1.0051 Validation Accuracy: 0.538800\n",
      "Epoch 24, CIFAR-10 Batch 1:  Loss:     0.9668 Validation Accuracy: 0.568800\n",
      "Epoch 24, CIFAR-10 Batch 2:  Loss:     1.1070 Validation Accuracy: 0.569800\n",
      "Epoch 24, CIFAR-10 Batch 3:  Loss:     0.9649 Validation Accuracy: 0.566600\n",
      "Epoch 24, CIFAR-10 Batch 4:  Loss:     1.0387 Validation Accuracy: 0.554200\n",
      "Epoch 24, CIFAR-10 Batch 5:  Loss:     0.9228 Validation Accuracy: 0.544200\n",
      "Epoch 25, CIFAR-10 Batch 1:  Loss:     0.9677 Validation Accuracy: 0.553400\n",
      "Epoch 25, CIFAR-10 Batch 2:  Loss:     1.0963 Validation Accuracy: 0.566600\n",
      "Epoch 25, CIFAR-10 Batch 3:  Loss:     0.9017 Validation Accuracy: 0.574600\n",
      "Epoch 25, CIFAR-10 Batch 4:  Loss:     1.0584 Validation Accuracy: 0.552600\n",
      "Epoch 25, CIFAR-10 Batch 5:  Loss:     1.0007 Validation Accuracy: 0.550000\n",
      "Epoch 26, CIFAR-10 Batch 1:  Loss:     0.9638 Validation Accuracy: 0.568800\n",
      "Epoch 26, CIFAR-10 Batch 2:  Loss:     1.0715 Validation Accuracy: 0.553800\n",
      "Epoch 26, CIFAR-10 Batch 3:  Loss:     0.9033 Validation Accuracy: 0.573200\n",
      "Epoch 26, CIFAR-10 Batch 4:  Loss:     1.0051 Validation Accuracy: 0.577400\n",
      "Epoch 26, CIFAR-10 Batch 5:  Loss:     0.9497 Validation Accuracy: 0.550600\n",
      "Epoch 27, CIFAR-10 Batch 1:  Loss:     0.9575 Validation Accuracy: 0.564200\n",
      "Epoch 27, CIFAR-10 Batch 2:  Loss:     1.0484 Validation Accuracy: 0.578600\n",
      "Epoch 27, CIFAR-10 Batch 3:  Loss:     0.9461 Validation Accuracy: 0.561200\n",
      "Epoch 27, CIFAR-10 Batch 4:  Loss:     0.9627 Validation Accuracy: 0.579800\n",
      "Epoch 27, CIFAR-10 Batch 5:  Loss:     0.9169 Validation Accuracy: 0.553000\n",
      "Epoch 28, CIFAR-10 Batch 1:  Loss:     0.9671 Validation Accuracy: 0.566600\n",
      "Epoch 28, CIFAR-10 Batch 2:  Loss:     1.0788 Validation Accuracy: 0.558800\n",
      "Epoch 28, CIFAR-10 Batch 3:  Loss:     0.9644 Validation Accuracy: 0.558200\n",
      "Epoch 28, CIFAR-10 Batch 4:  Loss:     1.0483 Validation Accuracy: 0.567200\n",
      "Epoch 28, CIFAR-10 Batch 5:  Loss:     0.9089 Validation Accuracy: 0.565400\n",
      "Epoch 29, CIFAR-10 Batch 1:  Loss:     0.9458 Validation Accuracy: 0.552600\n",
      "Epoch 29, CIFAR-10 Batch 2:  Loss:     1.0440 Validation Accuracy: 0.568800\n",
      "Epoch 29, CIFAR-10 Batch 3:  Loss:     0.9084 Validation Accuracy: 0.555000\n",
      "Epoch 29, CIFAR-10 Batch 4:  Loss:     0.9378 Validation Accuracy: 0.579600\n",
      "Epoch 29, CIFAR-10 Batch 5:  Loss:     0.9371 Validation Accuracy: 0.559800\n",
      "Epoch 30, CIFAR-10 Batch 1:  Loss:     0.8970 Validation Accuracy: 0.573600\n",
      "Epoch 30, CIFAR-10 Batch 2:  Loss:     1.0981 Validation Accuracy: 0.573600\n",
      "Epoch 30, CIFAR-10 Batch 3:  Loss:     0.8877 Validation Accuracy: 0.572800\n",
      "Epoch 30, CIFAR-10 Batch 4:  Loss:     0.9513 Validation Accuracy: 0.563400\n",
      "Epoch 30, CIFAR-10 Batch 5:  Loss:     0.9509 Validation Accuracy: 0.564600\n",
      "Epoch 31, CIFAR-10 Batch 1:  Loss:     0.9108 Validation Accuracy: 0.570600\n",
      "Epoch 31, CIFAR-10 Batch 2:  Loss:     1.0289 Validation Accuracy: 0.569200\n",
      "Epoch 31, CIFAR-10 Batch 3:  Loss:     0.8298 Validation Accuracy: 0.570400\n",
      "Epoch 31, CIFAR-10 Batch 4:  Loss:     0.9614 Validation Accuracy: 0.564400\n",
      "Epoch 31, CIFAR-10 Batch 5:  Loss:     0.9314 Validation Accuracy: 0.552600\n",
      "Epoch 32, CIFAR-10 Batch 1:  Loss:     0.8868 Validation Accuracy: 0.554600\n",
      "Epoch 32, CIFAR-10 Batch 2:  Loss:     1.0246 Validation Accuracy: 0.572400\n",
      "Epoch 32, CIFAR-10 Batch 3:  Loss:     0.8585 Validation Accuracy: 0.582400\n",
      "Epoch 32, CIFAR-10 Batch 4:  Loss:     0.9037 Validation Accuracy: 0.576200\n",
      "Epoch 32, CIFAR-10 Batch 5:  Loss:     0.9060 Validation Accuracy: 0.558200\n",
      "Epoch 33, CIFAR-10 Batch 1:  Loss:     0.8630 Validation Accuracy: 0.569400\n",
      "Epoch 33, CIFAR-10 Batch 2:  Loss:     1.0312 Validation Accuracy: 0.554000\n",
      "Epoch 33, CIFAR-10 Batch 3:  Loss:     0.8545 Validation Accuracy: 0.566200\n",
      "Epoch 33, CIFAR-10 Batch 4:  Loss:     0.8785 Validation Accuracy: 0.573600\n",
      "Epoch 33, CIFAR-10 Batch 5:  Loss:     0.9161 Validation Accuracy: 0.555800\n",
      "Epoch 34, CIFAR-10 Batch 1:  Loss:     0.8613 Validation Accuracy: 0.556600\n",
      "Epoch 34, CIFAR-10 Batch 2:  Loss:     1.0109 Validation Accuracy: 0.562800\n",
      "Epoch 34, CIFAR-10 Batch 3:  Loss:     0.8486 Validation Accuracy: 0.568600\n",
      "Epoch 34, CIFAR-10 Batch 4:  Loss:     0.8941 Validation Accuracy: 0.584800\n",
      "Epoch 34, CIFAR-10 Batch 5:  Loss:     0.9037 Validation Accuracy: 0.581000\n",
      "Epoch 35, CIFAR-10 Batch 1:  Loss:     0.8359 Validation Accuracy: 0.565800\n",
      "Epoch 35, CIFAR-10 Batch 2:  Loss:     0.9905 Validation Accuracy: 0.579800\n",
      "Epoch 35, CIFAR-10 Batch 3:  Loss:     0.8718 Validation Accuracy: 0.564400\n",
      "Epoch 35, CIFAR-10 Batch 4:  Loss:     0.9199 Validation Accuracy: 0.570400\n",
      "Epoch 35, CIFAR-10 Batch 5:  Loss:     0.9083 Validation Accuracy: 0.571800\n",
      "Epoch 36, CIFAR-10 Batch 1:  Loss:     0.8445 Validation Accuracy: 0.560200\n",
      "Epoch 36, CIFAR-10 Batch 2:  Loss:     1.0404 Validation Accuracy: 0.572400\n",
      "Epoch 36, CIFAR-10 Batch 3:  Loss:     0.8526 Validation Accuracy: 0.556600\n",
      "Epoch 36, CIFAR-10 Batch 4:  Loss:     0.8669 Validation Accuracy: 0.580600\n",
      "Epoch 36, CIFAR-10 Batch 5:  Loss:     0.8967 Validation Accuracy: 0.578600\n",
      "Epoch 37, CIFAR-10 Batch 1:  Loss:     0.8598 Validation Accuracy: 0.575800\n",
      "Epoch 37, CIFAR-10 Batch 2:  Loss:     0.9874 Validation Accuracy: 0.580200\n",
      "Epoch 37, CIFAR-10 Batch 3:  Loss:     0.8408 Validation Accuracy: 0.561400\n",
      "Epoch 37, CIFAR-10 Batch 4:  Loss:     0.8556 Validation Accuracy: 0.575400\n",
      "Epoch 37, CIFAR-10 Batch 5:  Loss:     0.8552 Validation Accuracy: 0.567200\n",
      "Epoch 38, CIFAR-10 Batch 1:  Loss:     0.8678 Validation Accuracy: 0.557800\n",
      "Epoch 38, CIFAR-10 Batch 2:  Loss:     0.9668 Validation Accuracy: 0.578400\n",
      "Epoch 38, CIFAR-10 Batch 3:  Loss:     0.8409 Validation Accuracy: 0.565600\n",
      "Epoch 38, CIFAR-10 Batch 4:  Loss:     0.8669 Validation Accuracy: 0.574600\n",
      "Epoch 38, CIFAR-10 Batch 5:  Loss:     0.8970 Validation Accuracy: 0.581800\n",
      "Epoch 39, CIFAR-10 Batch 1:  Loss:     0.8355 Validation Accuracy: 0.564200\n",
      "Epoch 39, CIFAR-10 Batch 2:  Loss:     0.9372 Validation Accuracy: 0.584000\n",
      "Epoch 39, CIFAR-10 Batch 3:  Loss:     0.8020 Validation Accuracy: 0.580800\n",
      "Epoch 39, CIFAR-10 Batch 4:  Loss:     0.8541 Validation Accuracy: 0.582000\n",
      "Epoch 39, CIFAR-10 Batch 5:  Loss:     0.8417 Validation Accuracy: 0.573800\n",
      "Epoch 40, CIFAR-10 Batch 1:  Loss:     0.7952 Validation Accuracy: 0.572200\n",
      "Epoch 40, CIFAR-10 Batch 2:  Loss:     0.9788 Validation Accuracy: 0.583200\n",
      "Epoch 40, CIFAR-10 Batch 3:  Loss:     0.8114 Validation Accuracy: 0.581600\n",
      "Epoch 40, CIFAR-10 Batch 4:  Loss:     0.8351 Validation Accuracy: 0.573800\n",
      "Epoch 40, CIFAR-10 Batch 5:  Loss:     0.8127 Validation Accuracy: 0.552000\n",
      "Epoch 41, CIFAR-10 Batch 1:  Loss:     0.8366 Validation Accuracy: 0.554200\n",
      "Epoch 41, CIFAR-10 Batch 2:  Loss:     0.9662 Validation Accuracy: 0.568600\n",
      "Epoch 41, CIFAR-10 Batch 3:  Loss:     0.8002 Validation Accuracy: 0.574600\n",
      "Epoch 41, CIFAR-10 Batch 4:  Loss:     0.8625 Validation Accuracy: 0.569800\n",
      "Epoch 41, CIFAR-10 Batch 5:  Loss:     0.8647 Validation Accuracy: 0.564800\n",
      "Epoch 42, CIFAR-10 Batch 1:  Loss:     0.7904 Validation Accuracy: 0.572400\n",
      "Epoch 42, CIFAR-10 Batch 2:  Loss:     0.9129 Validation Accuracy: 0.573200\n",
      "Epoch 42, CIFAR-10 Batch 3:  Loss:     0.7944 Validation Accuracy: 0.575200\n",
      "Epoch 42, CIFAR-10 Batch 4:  Loss:     0.7909 Validation Accuracy: 0.567000\n",
      "Epoch 42, CIFAR-10 Batch 5:  Loss:     0.8402 Validation Accuracy: 0.570400\n",
      "Epoch 43, CIFAR-10 Batch 1:  Loss:     0.7760 Validation Accuracy: 0.570600\n",
      "Epoch 43, CIFAR-10 Batch 2:  Loss:     0.9603 Validation Accuracy: 0.563000\n",
      "Epoch 43, CIFAR-10 Batch 3:  Loss:     0.7711 Validation Accuracy: 0.564800\n",
      "Epoch 43, CIFAR-10 Batch 4:  Loss:     0.7908 Validation Accuracy: 0.578000\n",
      "Epoch 43, CIFAR-10 Batch 5:  Loss:     0.7668 Validation Accuracy: 0.564600\n",
      "Epoch 44, CIFAR-10 Batch 1:  Loss:     0.8221 Validation Accuracy: 0.555800\n"
     ]
    },
    {
     "name": "stdout",
     "output_type": "stream",
     "text": [
      "Epoch 44, CIFAR-10 Batch 2:  Loss:     0.9177 Validation Accuracy: 0.573000\n",
      "Epoch 44, CIFAR-10 Batch 3:  Loss:     0.7461 Validation Accuracy: 0.571000\n",
      "Epoch 44, CIFAR-10 Batch 4:  Loss:     0.7954 Validation Accuracy: 0.581200\n",
      "Epoch 44, CIFAR-10 Batch 5:  Loss:     0.8225 Validation Accuracy: 0.551200\n",
      "Epoch 45, CIFAR-10 Batch 1:  Loss:     0.7895 Validation Accuracy: 0.555800\n",
      "Epoch 45, CIFAR-10 Batch 2:  Loss:     0.9508 Validation Accuracy: 0.572000\n",
      "Epoch 45, CIFAR-10 Batch 3:  Loss:     0.7697 Validation Accuracy: 0.580800\n",
      "Epoch 45, CIFAR-10 Batch 4:  Loss:     0.7884 Validation Accuracy: 0.578600\n",
      "Epoch 45, CIFAR-10 Batch 5:  Loss:     0.7959 Validation Accuracy: 0.566000\n",
      "Epoch 46, CIFAR-10 Batch 1:  Loss:     0.8050 Validation Accuracy: 0.556200\n",
      "Epoch 46, CIFAR-10 Batch 2:  Loss:     0.8740 Validation Accuracy: 0.581000\n",
      "Epoch 46, CIFAR-10 Batch 3:  Loss:     0.7119 Validation Accuracy: 0.571000\n",
      "Epoch 46, CIFAR-10 Batch 4:  Loss:     0.7770 Validation Accuracy: 0.573800\n",
      "Epoch 46, CIFAR-10 Batch 5:  Loss:     0.8079 Validation Accuracy: 0.567400\n",
      "Epoch 47, CIFAR-10 Batch 1:  Loss:     0.8098 Validation Accuracy: 0.555400\n",
      "Epoch 47, CIFAR-10 Batch 2:  Loss:     0.8953 Validation Accuracy: 0.554200\n",
      "Epoch 47, CIFAR-10 Batch 3:  Loss:     0.6596 Validation Accuracy: 0.583800\n",
      "Epoch 47, CIFAR-10 Batch 4:  Loss:     0.7548 Validation Accuracy: 0.581400\n",
      "Epoch 47, CIFAR-10 Batch 5:  Loss:     0.7612 Validation Accuracy: 0.579200\n",
      "Epoch 48, CIFAR-10 Batch 1:  Loss:     0.7407 Validation Accuracy: 0.573000\n",
      "Epoch 48, CIFAR-10 Batch 2:  Loss:     0.8371 Validation Accuracy: 0.570000\n",
      "Epoch 48, CIFAR-10 Batch 3:  Loss:     0.6416 Validation Accuracy: 0.580400\n",
      "Epoch 48, CIFAR-10 Batch 4:  Loss:     0.7412 Validation Accuracy: 0.582400\n",
      "Epoch 48, CIFAR-10 Batch 5:  Loss:     0.7526 Validation Accuracy: 0.563600\n",
      "Epoch 49, CIFAR-10 Batch 1:  Loss:     0.7371 Validation Accuracy: 0.551600\n",
      "Epoch 49, CIFAR-10 Batch 2:  Loss:     0.8664 Validation Accuracy: 0.570800\n",
      "Epoch 49, CIFAR-10 Batch 3:  Loss:     0.7023 Validation Accuracy: 0.574400\n",
      "Epoch 49, CIFAR-10 Batch 4:  Loss:     0.7354 Validation Accuracy: 0.583600\n",
      "Epoch 49, CIFAR-10 Batch 5:  Loss:     0.7740 Validation Accuracy: 0.581400\n",
      "Epoch 50, CIFAR-10 Batch 1:  Loss:     0.7360 Validation Accuracy: 0.554400\n",
      "Epoch 50, CIFAR-10 Batch 2:  Loss:     0.9189 Validation Accuracy: 0.563800\n",
      "Epoch 50, CIFAR-10 Batch 3:  Loss:     0.6901 Validation Accuracy: 0.571600\n",
      "Epoch 50, CIFAR-10 Batch 4:  Loss:     0.7236 Validation Accuracy: 0.570200\n",
      "Epoch 50, CIFAR-10 Batch 5:  Loss:     0.7299 Validation Accuracy: 0.560400\n"
     ]
    }
   ],
   "source": [
    "\"\"\"\n",
    "DON'T MODIFY ANYTHING IN THIS CELL\n",
    "\"\"\"\n",
    "save_model_path = './image_classification'\n",
    "\n",
    "print('Training...')\n",
    "with tf.Session() as sess:\n",
    "    # Initializing the variables\n",
    "    sess.run(tf.global_variables_initializer())\n",
    "    \n",
    "    # Training cycle\n",
    "    for epoch in range(epochs):\n",
    "        # Loop over all batches\n",
    "        n_batches = 5\n",
    "        for batch_i in range(1, n_batches + 1):\n",
    "            for batch_features, batch_labels in helper.load_preprocess_training_batch(batch_i, batch_size):\n",
    "                train_neural_network(sess, optimizer, keep_probability, batch_features, batch_labels)\n",
    "            print('Epoch {:>2}, CIFAR-10 Batch {}:  '.format(epoch + 1, batch_i), end='')\n",
    "            print_stats(sess, batch_features, batch_labels, cost, accuracy)\n",
    "            \n",
    "    # Save Model\n",
    "    saver = tf.train.Saver()\n",
    "    save_path = saver.save(sess, save_model_path)"
   ]
  },
  {
   "cell_type": "markdown",
   "metadata": {},
   "source": [
    "# Checkpoint\n",
    "The model has been saved to disk.\n",
    "## Test Model\n",
    "Test your model against the test dataset.  This will be your final accuracy. You should have an accuracy greater than 50%. If you don't, keep tweaking the model architecture and parameters."
   ]
  },
  {
   "cell_type": "code",
   "execution_count": 35,
   "metadata": {},
   "outputs": [
    {
     "name": "stdout",
     "output_type": "stream",
     "text": [
      "INFO:tensorflow:Restoring parameters from ./image_classification\n",
      "Testing Accuracy: 0.5657842356687898\n",
      "\n"
     ]
    },
    {
     "data": {
      "image/png": "[encoded data removed]",
      "text/plain": [
       "<matplotlib.figure.Figure at 0x124e7e240>"
      ]
     },
     "metadata": {
      "image/png": {
       "height": 319,
       "width": 355
      }
     },
     "output_type": "display_data"
    }
   ],
   "source": [
    "\"\"\"\n",
    "DON'T MODIFY ANYTHING IN THIS CELL\n",
    "\"\"\"\n",
    "%matplotlib inline\n",
    "%config InlineBackend.figure_format = 'retina'\n",
    "\n",
    "import tensorflow as tf\n",
    "import pickle\n",
    "import helper\n",
    "import random\n",
    "\n",
    "# Set batch size if not already set\n",
    "try:\n",
    "    if batch_size:\n",
    "        pass\n",
    "except NameError:\n",
    "    batch_size = 64\n",
    "\n",
    "save_model_path = './image_classification'\n",
    "n_samples = 4\n",
    "top_n_predictions = 3\n",
    "\n",
    "def test_model():\n",
    "    \"\"\"\n",
    "    Test the saved model against the test dataset\n",
    "    \"\"\"\n",
    "\n",
    "    test_features, test_labels = pickle.load(open('preprocess_test.p', mode='rb'))\n",
    "    loaded_graph = tf.Graph()\n",
    "\n",
    "    with tf.Session(graph=loaded_graph) as sess:\n",
    "        # Load model\n",
    "        loader = tf.train.import_meta_graph(save_model_path + '.meta')\n",
    "        loader.restore(sess, save_model_path)\n",
    "\n",
    "        # Get Tensors from loaded model\n",
    "        loaded_x = loaded_graph.get_tensor_by_name('x:0')\n",
    "        loaded_y = loaded_graph.get_tensor_by_name('y:0')\n",
    "        loaded_keep_prob = loaded_graph.get_tensor_by_name('keep_prob:0')\n",
    "        loaded_logits = loaded_graph.get_tensor_by_name('logits:0')\n",
    "        loaded_acc = loaded_graph.get_tensor_by_name('accuracy:0')\n",
    "        \n",
    "        # Get accuracy in batches for memory limitations\n",
    "        test_batch_acc_total = 0\n",
    "        test_batch_count = 0\n",
    "        \n",
    "        for test_feature_batch, test_label_batch in helper.batch_features_labels(test_features, test_labels, batch_size):\n",
    "            test_batch_acc_total += sess.run(\n",
    "                loaded_acc,\n",
    "                feed_dict={loaded_x: test_feature_batch, loaded_y: test_label_batch, loaded_keep_prob: 1.0})\n",
    "            test_batch_count += 1\n",
    "\n",
    "        print('Testing Accuracy: {}\\n'.format(test_batch_acc_total/test_batch_count))\n",
    "\n",
    "        # Print Random Samples\n",
    "        random_test_features, random_test_labels = tuple(zip(*random.sample(list(zip(test_features, test_labels)), n_samples)))\n",
    "        random_test_predictions = sess.run(\n",
    "            tf.nn.top_k(tf.nn.softmax(loaded_logits), top_n_predictions),\n",
    "            feed_dict={loaded_x: random_test_features, loaded_y: random_test_labels, loaded_keep_prob: 1.0})\n",
    "        helper.display_image_predictions(random_test_features, random_test_labels, random_test_predictions)\n",
    "\n",
    "\n",
    "test_model()"
   ]
  },
  {
   "cell_type": "markdown",
   "metadata": {},
   "source": [
    "## Why 50-80% Accuracy?\n",
    "You might be wondering why you can't get an accuracy any higher. First things first, 50% isn't bad for a simple CNN.  Pure guessing would get you 10% accuracy. However, you might notice people are getting scores [well above 80%](http://rodrigob.github.io/are_we_there_yet/build/classification_datasets_results.html#43494641522d3130).  That's because we haven't taught you all there is to know about neural networks. We still need to cover a few more techniques.\n",
    "## Submitting This Project\n",
    "When submitting this project, make sure to run all the cells before saving the notebook.  Save the notebook file as \"dlnd_image_classification.ipynb\" and save it as a HTML file under \"File\" -> \"Download as\".  Include the \"helper.py\" and \"problem_unittests.py\" files in your submission."
   ]
  }
 ],
 "metadata": {
  "kernelspec": {
   "display_name": "Python 3",
   "language": "python",
   "name": "python3"
  },
  "language_info": {
   "codemirror_mode": {
    "name": "ipython",
    "version": 3
   },
   "file_extension": ".py",
   "mimetype": "text/x-python",
   "name": "python",
   "nbconvert_exporter": "python",
   "pygments_lexer": "ipython3",
   "version": "3.6.2"
  }
 },
 "nbformat": 4,
 "nbformat_minor": 1
}
