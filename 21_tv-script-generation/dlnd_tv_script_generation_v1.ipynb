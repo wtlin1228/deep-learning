{
 "cells": [
  {
   "cell_type": "markdown",
   "metadata": {
    "deletable": true,
    "editable": true
   },
   "source": [
    "# TV Script Generation\n",
    "In this project, you'll generate your own [Simpsons](https://en.wikipedia.org/wiki/The_Simpsons) TV scripts using RNNs.  You'll be using part of the [Simpsons dataset](https://www.kaggle.com/wcukierski/the-simpsons-by-the-data) of scripts from 27 seasons.  The Neural Network you'll build will generate a new TV script for a scene at [Moe's Tavern](https://simpsonswiki.com/wiki/Moe's_Tavern).\n",
    "## Get the Data\n",
    "The data is already provided for you.  You'll be using a subset of the original dataset.  It consists of only the scenes in Moe's Tavern.  This doesn't include other versions of the tavern, like \"Moe's Cavern\", \"Flaming Moe's\", \"Uncle Moe's Family Feed-Bag\", etc.."
   ]
  },
  {
   "cell_type": "code",
   "execution_count": 1,
   "metadata": {
    "collapsed": true,
    "deletable": true,
    "editable": true
   },
   "outputs": [],
   "source": [
    "\"\"\"\n",
    "DON'T MODIFY ANYTHING IN THIS CELL\n",
    "\"\"\"\n",
    "import helper\n",
    "\n",
    "data_dir = './data/simpsons/moes_tavern_lines.txt'\n",
    "text = helper.load_data(data_dir)\n",
    "# Ignore notice, since we don't use it for analysing the data\n",
    "text = text[81:]"
   ]
  },
  {
   "cell_type": "markdown",
   "metadata": {
    "deletable": true,
    "editable": true
   },
   "source": [
    "## Explore the Data\n",
    "Play around with `view_sentence_range` to view different parts of the data."
   ]
  },
  {
   "cell_type": "code",
   "execution_count": 2,
   "metadata": {
    "collapsed": false,
    "deletable": true,
    "editable": true
   },
   "outputs": [
    {
     "name": "stdout",
     "output_type": "stream",
     "text": [
      "Dataset Stats\n",
      "Roughly the number of unique words: 11492\n",
      "Number of scenes: 262\n",
      "Average number of sentences in each scene: 15.248091603053435\n",
      "Number of lines: 4257\n",
      "Average number of words in each line: 11.50434578341555\n",
      "\n",
      "The sentences 0 to 10:\n",
      "Moe_Szyslak: (INTO PHONE) Moe's Tavern. Where the elite meet to drink.\n",
      "Bart_Simpson: Eh, yeah, hello, is Mike there? Last name, Rotch.\n",
      "Moe_Szyslak: (INTO PHONE) Hold on, I'll check. (TO BARFLIES) Mike Rotch. Mike Rotch. Hey, has anybody seen Mike Rotch, lately?\n",
      "Moe_Szyslak: (INTO PHONE) Listen you little puke. One of these days I'm gonna catch you, and I'm gonna carve my name on your back with an ice pick.\n",
      "Moe_Szyslak: What's the matter Homer? You're not your normal effervescent self.\n",
      "Homer_Simpson: I got my problems, Moe. Give me another one.\n",
      "Moe_Szyslak: Homer, hey, you should not drink to forget your problems.\n",
      "Barney_Gumble: Yeah, you should only drink to enhance your social skills.\n",
      "\n",
      "\n"
     ]
    }
   ],
   "source": [
    "view_sentence_range = (0, 10)\n",
    "\n",
    "\"\"\"\n",
    "DON'T MODIFY ANYTHING IN THIS CELL\n",
    "\"\"\"\n",
    "import numpy as np\n",
    "\n",
    "print('Dataset Stats')\n",
    "print('Roughly the number of unique words: {}'.format(len({word: None for word in text.split()})))\n",
    "scenes = text.split('\\n\\n')\n",
    "print('Number of scenes: {}'.format(len(scenes)))\n",
    "sentence_count_scene = [scene.count('\\n') for scene in scenes]\n",
    "print('Average number of sentences in each scene: {}'.format(np.average(sentence_count_scene)))\n",
    "\n",
    "sentences = [sentence for scene in scenes for sentence in scene.split('\\n')]\n",
    "print('Number of lines: {}'.format(len(sentences)))\n",
    "word_count_sentence = [len(sentence.split()) for sentence in sentences]\n",
    "print('Average number of words in each line: {}'.format(np.average(word_count_sentence)))\n",
    "\n",
    "print()\n",
    "print('The sentences {} to {}:'.format(*view_sentence_range))\n",
    "print('\\n'.join(text.split('\\n')[view_sentence_range[0]:view_sentence_range[1]]))"
   ]
  },
  {
   "cell_type": "markdown",
   "metadata": {
    "deletable": true,
    "editable": true
   },
   "source": [
    "## Implement Preprocessing Functions\n",
    "The first thing to do to any dataset is preprocessing.  Implement the following preprocessing functions below:\n",
    "- Lookup Table\n",
    "- Tokenize Punctuation\n",
    "\n",
    "### Lookup Table\n",
    "To create a word embedding, you first need to transform the words to ids.  In this function, create two dictionaries:\n",
    "- Dictionary to go from the words to an id, we'll call `vocab_to_int`\n",
    "- Dictionary to go from the id to word, we'll call `int_to_vocab`\n",
    "\n",
    "Return these dictionaries in the following tuple `(vocab_to_int, int_to_vocab)`"
   ]
  },
  {
   "cell_type": "code",
   "execution_count": 3,
   "metadata": {
    "collapsed": false,
    "deletable": true,
    "editable": true
   },
   "outputs": [
    {
     "name": "stdout",
     "output_type": "stream",
     "text": [
      "Tests Passed\n"
     ]
    }
   ],
   "source": [
    "import numpy as np\n",
    "import problem_unittests as tests\n",
    "\n",
    "from collections import Counter\n",
    "\n",
    "def create_lookup_tables(text):\n",
    "    \"\"\"\n",
    "    Create lookup tables for vocabulary\n",
    "    :param text: The text of tv scripts split into words\n",
    "    :return: A tuple of dicts (vocab_to_int, int_to_vocab)\n",
    "    \"\"\"\n",
    "    # TODO: Implement Function\n",
    "    counts = Counter(text)\n",
    "    vocab = sorted(counts, key=counts.get, reverse=True)\n",
    "    vocab_to_int = {word: ii for ii, word in enumerate(vocab, 1)}\n",
    "    int_to_vocab = {ii: word for ii, word in enumerate(vocab, 1)}\n",
    "    \n",
    "    return (vocab_to_int, int_to_vocab)\n",
    "\n",
    "\n",
    "\n",
    "\n",
    "\"\"\"\n",
    "DON'T MODIFY ANYTHING IN THIS CELL THAT IS BELOW THIS LINE\n",
    "\"\"\"\n",
    "tests.test_create_lookup_tables(create_lookup_tables)"
   ]
  },
  {
   "cell_type": "markdown",
   "metadata": {
    "deletable": true,
    "editable": true
   },
   "source": [
    "### Tokenize Punctuation\n",
    "We'll be splitting the script into a word array using spaces as delimiters.  However, punctuations like periods and exclamation marks make it hard for the neural network to distinguish between the word \"bye\" and \"bye!\".\n",
    "\n",
    "Implement the function `token_lookup` to return a dict that will be used to tokenize symbols like \"!\" into \"||Exclamation_Mark||\".  Create a dictionary for the following symbols where the symbol is the key and value is the token:\n",
    "- Period ( . )\n",
    "- Comma ( , )\n",
    "- Quotation Mark ( \" )\n",
    "- Semicolon ( ; )\n",
    "- Exclamation mark ( ! )\n",
    "- Question mark ( ? )\n",
    "- Left Parentheses ( ( )\n",
    "- Right Parentheses ( ) )\n",
    "- Dash ( -- )\n",
    "- Return ( \\n )\n",
    "\n",
    "This dictionary will be used to token the symbols and add the delimiter (space) around it.  This separates the symbols as it's own word, making it easier for the neural network to predict on the next word. Make sure you don't use a token that could be confused as a word. Instead of using the token \"dash\", try using something like \"||dash||\"."
   ]
  },
  {
   "cell_type": "code",
   "execution_count": 4,
   "metadata": {
    "collapsed": false,
    "deletable": true,
    "editable": true
   },
   "outputs": [
    {
     "name": "stdout",
     "output_type": "stream",
     "text": [
      "Tests Passed\n"
     ]
    }
   ],
   "source": [
    "def token_lookup():\n",
    "    \"\"\"\n",
    "    Generate a dict to turn punctuation into a token.\n",
    "    :return: Tokenize dictionary where the key is the punctuation and the value is the token\n",
    "    \"\"\"\n",
    "    # TODO: Implement Function\n",
    "    return {\n",
    "        '.':  '||Period||',\n",
    "        ',':  '||Comma||',\n",
    "        '\"':  '||QuotationMark||',\n",
    "        ';':  '||Semicolon||',\n",
    "        '!':  '||ExclamationMark||',\n",
    "        '?':  '||Questionmark||',\n",
    "        '(':  '||LeftParentheses||',\n",
    "        ')':  '||RightParentheses||',\n",
    "        '--': '||Dash||',\n",
    "        '\\n': '||Return||'\n",
    "    }\n",
    "\n",
    "\"\"\"\n",
    "DON'T MODIFY ANYTHING IN THIS CELL THAT IS BELOW THIS LINE\n",
    "\"\"\"\n",
    "tests.test_tokenize(token_lookup)"
   ]
  },
  {
   "cell_type": "markdown",
   "metadata": {
    "deletable": true,
    "editable": true
   },
   "source": [
    "## Preprocess all the data and save it\n",
    "Running the code cell below will preprocess all the data and save it to file."
   ]
  },
  {
   "cell_type": "code",
   "execution_count": 5,
   "metadata": {
    "collapsed": true,
    "deletable": true,
    "editable": true
   },
   "outputs": [],
   "source": [
    "\"\"\"\n",
    "DON'T MODIFY ANYTHING IN THIS CELL\n",
    "\"\"\"\n",
    "# Preprocess Training, Validation, and Testing Data\n",
    "helper.preprocess_and_save_data(data_dir, token_lookup, create_lookup_tables)"
   ]
  },
  {
   "cell_type": "markdown",
   "metadata": {
    "deletable": true,
    "editable": true
   },
   "source": [
    "# Check Point\n",
    "This is your first checkpoint. If you ever decide to come back to this notebook or have to restart the notebook, you can start from here. The preprocessed data has been saved to disk."
   ]
  },
  {
   "cell_type": "code",
   "execution_count": 6,
   "metadata": {
    "collapsed": true,
    "deletable": true,
    "editable": true
   },
   "outputs": [],
   "source": [
    "\"\"\"\n",
    "DON'T MODIFY ANYTHING IN THIS CELL\n",
    "\"\"\"\n",
    "import helper\n",
    "import numpy as np\n",
    "import problem_unittests as tests\n",
    "\n",
    "int_text, vocab_to_int, int_to_vocab, token_dict = helper.load_preprocess()"
   ]
  },
  {
   "cell_type": "markdown",
   "metadata": {
    "deletable": true,
    "editable": true
   },
   "source": [
    "## Build the Neural Network\n",
    "You'll build the components necessary to build a RNN by implementing the following functions below:\n",
    "- get_inputs\n",
    "- get_init_cell\n",
    "- get_embed\n",
    "- build_rnn\n",
    "- build_nn\n",
    "- get_batches\n",
    "\n",
    "### Check the Version of TensorFlow and Access to GPU"
   ]
  },
  {
   "cell_type": "code",
   "execution_count": 7,
   "metadata": {
    "collapsed": false,
    "deletable": true,
    "editable": true
   },
   "outputs": [
    {
     "name": "stdout",
     "output_type": "stream",
     "text": [
      "TensorFlow Version: 1.0.0\n"
     ]
    },
    {
     "name": "stderr",
     "output_type": "stream",
     "text": [
      "/anaconda/envs/dlnd/lib/python3.6/site-packages/ipykernel_launcher.py:14: UserWarning: No GPU found. Please use a GPU to train your neural network.\n",
      "  \n"
     ]
    }
   ],
   "source": [
    "\"\"\"\n",
    "DON'T MODIFY ANYTHING IN THIS CELL\n",
    "\"\"\"\n",
    "from distutils.version import LooseVersion\n",
    "import warnings\n",
    "import tensorflow as tf\n",
    "\n",
    "# Check TensorFlow Version\n",
    "assert LooseVersion(tf.__version__) >= LooseVersion('1.0'), 'Please use TensorFlow version 1.0 or newer'\n",
    "print('TensorFlow Version: {}'.format(tf.__version__))\n",
    "\n",
    "# Check for a GPU\n",
    "if not tf.test.gpu_device_name():\n",
    "    warnings.warn('No GPU found. Please use a GPU to train your neural network.')\n",
    "else:\n",
    "    print('Default GPU Device: {}'.format(tf.test.gpu_device_name()))"
   ]
  },
  {
   "cell_type": "markdown",
   "metadata": {
    "deletable": true,
    "editable": true
   },
   "source": [
    "### Input\n",
    "Implement the `get_inputs()` function to create TF Placeholders for the Neural Network.  It should create the following placeholders:\n",
    "- Input text placeholder named \"input\" using the [TF Placeholder](https://www.tensorflow.org/api_docs/python/tf/placeholder) `name` parameter.\n",
    "- Targets placeholder\n",
    "- Learning Rate placeholder\n",
    "\n",
    "Return the placeholders in the following tuple `(Input, Targets, LearningRate)`"
   ]
  },
  {
   "cell_type": "code",
   "execution_count": 8,
   "metadata": {
    "collapsed": false,
    "deletable": true,
    "editable": true
   },
   "outputs": [
    {
     "name": "stdout",
     "output_type": "stream",
     "text": [
      "Tests Passed\n"
     ]
    }
   ],
   "source": [
    "def get_inputs():\n",
    "    \"\"\"\n",
    "    Create TF Placeholders for input, targets, and learning rate.\n",
    "    :return: Tuple (input, targets, learning rate)\n",
    "    \"\"\"\n",
    "    # TODO: Implement Function\n",
    "    Input = tf.placeholder(tf.int32, shape=(None, None), name='input')\n",
    "    Targets = tf.placeholder(tf.int32, shape=(None, None), name='targets')\n",
    "    LearningRate = tf.placeholder(tf.float32, name='learningRate')\n",
    "    \n",
    "    return (Input, Targets, LearningRate)\n",
    "\n",
    "\n",
    "\n",
    "\"\"\"\n",
    "DON'T MODIFY ANYTHING IN THIS CELL THAT IS BELOW THIS LINE\n",
    "\"\"\"\n",
    "tests.test_get_inputs(get_inputs)"
   ]
  },
  {
   "cell_type": "markdown",
   "metadata": {
    "deletable": true,
    "editable": true
   },
   "source": [
    "### Build RNN Cell and Initialize\n",
    "Stack one or more [`BasicLSTMCells`](https://www.tensorflow.org/api_docs/python/tf/contrib/rnn/BasicLSTMCell) in a [`MultiRNNCell`](https://www.tensorflow.org/api_docs/python/tf/contrib/rnn/MultiRNNCell).\n",
    "- The Rnn size should be set using `rnn_size`\n",
    "- Initalize Cell State using the MultiRNNCell's [`zero_state()`](https://www.tensorflow.org/api_docs/python/tf/contrib/rnn/MultiRNNCell#zero_state) function\n",
    "    - Apply the name \"initial_state\" to the initial state using [`tf.identity()`](https://www.tensorflow.org/api_docs/python/tf/identity)\n",
    "\n",
    "Return the cell and initial state in the following tuple `(Cell, InitialState)`"
   ]
  },
  {
   "cell_type": "code",
   "execution_count": 9,
   "metadata": {
    "collapsed": false,
    "deletable": true,
    "editable": true
   },
   "outputs": [
    {
     "name": "stdout",
     "output_type": "stream",
     "text": [
      "Tests Passed\n"
     ]
    }
   ],
   "source": [
    "def get_init_cell(batch_size, rnn_size):\n",
    "    \"\"\"\n",
    "    Create an RNN Cell and initialize it.\n",
    "    :param batch_size: Size of batches\n",
    "    :param rnn_size: Size of RNNs\n",
    "    :return: Tuple (cell, initialize state)\n",
    "    \"\"\"\n",
    "    # TODO: Implement Function\n",
    "    num_layers = 3\n",
    "    \n",
    "    basic_cell = tf.contrib.rnn.BasicLSTMCell(rnn_size, state_is_tuple=True)\n",
    "\n",
    "    cell = tf.contrib.rnn.MultiRNNCell([basic_cell] * num_layers)\n",
    "    initial_state = cell.zero_state(batch_size, tf.float32)\n",
    "    initial_state = tf.identity(initial_state, name=\"initial_state\")\n",
    "    return (cell, initial_state)\n",
    "\n",
    "\n",
    "\"\"\"\n",
    "DON'T MODIFY ANYTHING IN THIS CELL THAT IS BELOW THIS LINE\n",
    "\"\"\"\n",
    "tests.test_get_init_cell(get_init_cell)"
   ]
  },
  {
   "cell_type": "markdown",
   "metadata": {
    "deletable": true,
    "editable": true
   },
   "source": [
    "### Word Embedding\n",
    "Apply embedding to `input_data` using TensorFlow.  Return the embedded sequence."
   ]
  },
  {
   "cell_type": "code",
   "execution_count": 10,
   "metadata": {
    "collapsed": false,
    "deletable": true,
    "editable": true
   },
   "outputs": [
    {
     "name": "stdout",
     "output_type": "stream",
     "text": [
      "Tests Passed\n"
     ]
    }
   ],
   "source": [
    "def get_embed(input_data, vocab_size, embed_dim):\n",
    "    \"\"\"\n",
    "    Create embedding for <input_data>.\n",
    "    :param input_data: TF placeholder for text input.\n",
    "    :param vocab_size: Number of words in vocabulary.\n",
    "    :param embed_dim: Number of embedding dimensions\n",
    "    :return: Embedded input.\n",
    "    \"\"\"\n",
    "    # TODO: Implement Function\n",
    "    embedding = tf.Variable(tf.truncated_normal((vocab_size, embed_dim), stddev=0.01))\n",
    "    embed = tf.nn.embedding_lookup(embedding, input_data)\n",
    "    \n",
    "    return embed\n",
    "\n",
    "\n",
    "\"\"\"\n",
    "DON'T MODIFY ANYTHING IN THIS CELL THAT IS BELOW THIS LINE\n",
    "\"\"\"\n",
    "tests.test_get_embed(get_embed)"
   ]
  },
  {
   "cell_type": "markdown",
   "metadata": {
    "deletable": true,
    "editable": true
   },
   "source": [
    "### Build RNN\n",
    "You created a RNN Cell in the `get_init_cell()` function.  Time to use the cell to create a RNN.\n",
    "- Build the RNN using the [`tf.nn.dynamic_rnn()`](https://www.tensorflow.org/api_docs/python/tf/nn/dynamic_rnn)\n",
    " - Apply the name \"final_state\" to the final state using [`tf.identity()`](https://www.tensorflow.org/api_docs/python/tf/identity)\n",
    "\n",
    "Return the outputs and final_state state in the following tuple `(Outputs, FinalState)` "
   ]
  },
  {
   "cell_type": "code",
   "execution_count": 11,
   "metadata": {
    "collapsed": false,
    "deletable": true,
    "editable": true
   },
   "outputs": [
    {
     "name": "stdout",
     "output_type": "stream",
     "text": [
      "Tests Passed\n"
     ]
    }
   ],
   "source": [
    "def build_rnn(cell, inputs):\n",
    "    \"\"\"\n",
    "    Create a RNN using a RNN Cell\n",
    "    :param cell: RNN Cell\n",
    "    :param inputs: Input text data\n",
    "    :return: Tuple (Outputs, Final State)\n",
    "    \"\"\"\n",
    "    # TODO: Implement Function\n",
    "    outputs, final_state = tf.nn.dynamic_rnn(cell, inputs, dtype=tf.float32)\n",
    "    final_state = tf.identity(final_state, name='final_state')\n",
    "    return outputs, final_state\n",
    "\n",
    "\n",
    "\n",
    "\"\"\"\n",
    "DON'T MODIFY ANYTHING IN THIS CELL THAT IS BELOW THIS LINE\n",
    "\"\"\"\n",
    "tests.test_build_rnn(build_rnn)"
   ]
  },
  {
   "cell_type": "markdown",
   "metadata": {
    "deletable": true,
    "editable": true
   },
   "source": [
    "### Build the Neural Network\n",
    "Apply the functions you implemented above to:\n",
    "- Apply embedding to `input_data` using your `get_embed(input_data, vocab_size, embed_dim)` function.\n",
    "- Build RNN using `cell` and your `build_rnn(cell, inputs)` function.\n",
    "- Apply a fully connected layer with a linear activation and `vocab_size` as the number of outputs.\n",
    "\n",
    "Return the logits and final state in the following tuple (Logits, FinalState) "
   ]
  },
  {
   "cell_type": "code",
   "execution_count": 12,
   "metadata": {
    "collapsed": false,
    "deletable": true,
    "editable": true
   },
   "outputs": [
    {
     "name": "stdout",
     "output_type": "stream",
     "text": [
      "Tests Passed\n"
     ]
    }
   ],
   "source": [
    "def build_nn(cell, rnn_size, input_data, vocab_size, embed_dim):\n",
    "    \"\"\"\n",
    "    Build part of the neural network\n",
    "    :param cell: RNN cell\n",
    "    :param rnn_size: Size of rnns\n",
    "    :param input_data: Input data\n",
    "    :param vocab_size: Vocabulary size\n",
    "    :param embed_dim: Number of embedding dimensions\n",
    "    :return: Tuple (Logits, FinalState)\n",
    "    \"\"\"\n",
    "    # TODO: Implement Function\n",
    "    embedding = get_embed(input_data, vocab_size, embed_dim)\n",
    "    outputs, final_state = build_rnn(cell, embedding)\n",
    "    weight = tf.truncated_normal_initializer(stddev = 0.01)\n",
    "    logits = tf.contrib.layers.fully_connected(\n",
    "        outputs, vocab_size, \n",
    "        weights_initializer = weight, \n",
    "        activation_fn=None\n",
    "    )\n",
    "    \n",
    "    return logits, final_state\n",
    "\n",
    "\"\"\"\n",
    "DON'T MODIFY ANYTHING IN THIS CELL THAT IS BELOW THIS LINE\n",
    "\"\"\"\n",
    "tests.test_build_nn(build_nn)"
   ]
  },
  {
   "cell_type": "markdown",
   "metadata": {
    "deletable": true,
    "editable": true
   },
   "source": [
    "### Batches\n",
    "Implement `get_batches` to create batches of input and targets using `int_text`.  The batches should be a Numpy array with the shape `(number of batches, 2, batch size, sequence length)`. Each batch contains two elements:\n",
    "- The first element is a single batch of **input** with the shape `[batch size, sequence length]`\n",
    "- The second element is a single batch of **targets** with the shape `[batch size, sequence length]`\n",
    "\n",
    "If you can't fill the last batch with enough data, drop the last batch.\n",
    "\n",
    "For exmple, `get_batches([1, 2, 3, 4, 5, 6, 7, 8, 9, 10, 11, 12, 13, 14, 15, 16, 17, 18, 19, 20], 3, 2)` would return a Numpy array of the following:\n",
    "```\n",
    "[\n",
    "  # First Batch\n",
    "  [\n",
    "    # Batch of Input\n",
    "    [[ 1  2], [ 7  8], [13 14]]\n",
    "    # Batch of targets\n",
    "    [[ 2  3], [ 8  9], [14 15]]\n",
    "  ]\n",
    "\n",
    "  # Second Batch\n",
    "  [\n",
    "    # Batch of Input\n",
    "    [[ 3  4], [ 9 10], [15 16]]\n",
    "    # Batch of targets\n",
    "    [[ 4  5], [10 11], [16 17]]\n",
    "  ]\n",
    "\n",
    "  # Third Batch\n",
    "  [\n",
    "    # Batch of Input\n",
    "    [[ 5  6], [11 12], [17 18]]\n",
    "    # Batch of targets\n",
    "    [[ 6  7], [12 13], [18  1]]\n",
    "  ]\n",
    "]\n",
    "```\n",
    "\n",
    "Notice that the last target value in the last batch is the first input value of the first batch. In this case, `1`. This is a common technique used when creating sequence batches, although it is rather unintuitive."
   ]
  },
  {
   "cell_type": "code",
   "execution_count": 13,
   "metadata": {
    "collapsed": false,
    "deletable": true,
    "editable": true
   },
   "outputs": [
    {
     "name": "stdout",
     "output_type": "stream",
     "text": [
      "Tests Passed\n"
     ]
    }
   ],
   "source": [
    "def get_batches(int_text, batch_size, seq_length):\n",
    "    \"\"\"\n",
    "    Return batches of input and target\n",
    "    :param int_text: Text with the words replaced by their ids\n",
    "    :param batch_size: The size of batch\n",
    "    :param seq_length: The length of sequence\n",
    "    :return: Batches as a Numpy array\n",
    "    \"\"\"\n",
    "    # TODO: Implement Function\n",
    "    n_batches = int(len(int_text)) // (batch_size * seq_length)\n",
    "    offset = n_batches * seq_length\n",
    "    batches = np.empty((n_batches, 2, batch_size, seq_length))\n",
    "    \n",
    "    for i in range(n_batches):\n",
    "        for j in range(batch_size):\n",
    "            batches[i][0][j] = int_text[i * seq_length + j * offset: (i + 1) * seq_length + j * offset]\n",
    "            batches[i][1][j] = int_text[i * seq_length + j * offset + 1: (i + 1) * seq_length + j * offset + 1]\n",
    "            \n",
    "    batches[-1][1][-1][-1] = batches[0][0][0][0]\n",
    "    return batches\n",
    "\n",
    "\n",
    "\"\"\"\n",
    "DON'T MODIFY ANYTHING IN THIS CELL THAT IS BELOW THIS LINE\n",
    "\"\"\"\n",
    "tests.test_get_batches(get_batches)"
   ]
  },
  {
   "cell_type": "markdown",
   "metadata": {
    "deletable": true,
    "editable": true
   },
   "source": [
    "## Neural Network Training\n",
    "### Hyperparameters\n",
    "Tune the following parameters:\n",
    "\n",
    "- Set `num_epochs` to the number of epochs.\n",
    "- Set `batch_size` to the batch size.\n",
    "- Set `rnn_size` to the size of the RNNs.\n",
    "- Set `embed_dim` to the size of the embedding.\n",
    "- Set `seq_length` to the length of sequence.\n",
    "- Set `learning_rate` to the learning rate.\n",
    "- Set `show_every_n_batches` to the number of batches the neural network should print progress."
   ]
  },
  {
   "cell_type": "code",
   "execution_count": 25,
   "metadata": {
    "collapsed": true,
    "deletable": true,
    "editable": true
   },
   "outputs": [],
   "source": [
    "# Number of Epochs\n",
    "num_epochs = 100\n",
    "# Batch Size\n",
    "batch_size = 128\n",
    "# RNN Size\n",
    "rnn_size = 512\n",
    "# Embedding Dimension Size\n",
    "embed_dim = 512\n",
    "# Sequence Length\n",
    "seq_length = 15\n",
    "# Learning Rate\n",
    "learning_rate = 0.02\n",
    "# Show stats for every n number of batches\n",
    "show_every_n_batches = 7\n",
    "\n",
    "\"\"\"\n",
    "DON'T MODIFY ANYTHING IN THIS CELL THAT IS BELOW THIS LINE\n",
    "\"\"\"\n",
    "save_dir = './save'"
   ]
  },
  {
   "cell_type": "markdown",
   "metadata": {
    "deletable": true,
    "editable": true
   },
   "source": [
    "### Build the Graph\n",
    "Build the graph using the neural network you implemented."
   ]
  },
  {
   "cell_type": "code",
   "execution_count": 26,
   "metadata": {
    "collapsed": false,
    "deletable": true,
    "editable": true,
    "scrolled": true
   },
   "outputs": [],
   "source": [
    "\"\"\"\n",
    "DON'T MODIFY ANYTHING IN THIS CELL\n",
    "\"\"\"\n",
    "from tensorflow.contrib import seq2seq\n",
    "\n",
    "train_graph = tf.Graph()\n",
    "with train_graph.as_default():\n",
    "    vocab_size = len(int_to_vocab)\n",
    "    input_text, targets, lr = get_inputs()\n",
    "    input_data_shape = tf.shape(input_text)\n",
    "    cell, initial_state = get_init_cell(input_data_shape[0], rnn_size)\n",
    "    logits, final_state = build_nn(cell, rnn_size, input_text, vocab_size, embed_dim)\n",
    "\n",
    "    # Probabilities for generating words\n",
    "    probs = tf.nn.softmax(logits, name='probs')\n",
    "\n",
    "    # Loss function\n",
    "    cost = seq2seq.sequence_loss(\n",
    "        logits,\n",
    "        targets,\n",
    "        tf.ones([input_data_shape[0], input_data_shape[1]]))\n",
    "\n",
    "    # Optimizer\n",
    "    optimizer = tf.train.AdamOptimizer(lr)\n",
    "\n",
    "    # Gradient Clipping\n",
    "    gradients = optimizer.compute_gradients(cost)\n",
    "    capped_gradients = [(tf.clip_by_value(grad, -1., 1.), var) for grad, var in gradients if grad is not None]\n",
    "    train_op = optimizer.apply_gradients(capped_gradients)"
   ]
  },
  {
   "cell_type": "markdown",
   "metadata": {
    "deletable": true,
    "editable": true
   },
   "source": [
    "## Train\n",
    "Train the neural network on the preprocessed data.  If you have a hard time getting a good loss, check the [forums](https://discussions.udacity.com/) to see if anyone is having the same problem."
   ]
  },
  {
   "cell_type": "code",
   "execution_count": 27,
   "metadata": {
    "collapsed": false,
    "deletable": true,
    "editable": true,
    "scrolled": false
   },
   "outputs": [
    {
     "name": "stdout",
     "output_type": "stream",
     "text": [
      "Epoch   0 Batch    0/35   train_loss = 8.822\n",
      "Epoch   0 Batch    7/35   train_loss = 7.637\n",
      "Epoch   0 Batch   14/35   train_loss = 7.262\n",
      "Epoch   0 Batch   21/35   train_loss = 7.347\n",
      "Epoch   0 Batch   28/35   train_loss = 7.147\n",
      "Epoch   1 Batch    0/35   train_loss = 7.004\n",
      "Epoch   1 Batch    7/35   train_loss = 6.645\n",
      "Epoch   1 Batch   14/35   train_loss = 6.644\n",
      "Epoch   1 Batch   21/35   train_loss = 6.721\n",
      "Epoch   1 Batch   28/35   train_loss = 6.706\n",
      "Epoch   2 Batch    0/35   train_loss = 6.690\n",
      "Epoch   2 Batch    7/35   train_loss = 6.776\n",
      "Epoch   2 Batch   14/35   train_loss = 6.559\n",
      "Epoch   2 Batch   21/35   train_loss = 6.754\n",
      "Epoch   2 Batch   28/35   train_loss = 6.674\n",
      "Epoch   3 Batch    0/35   train_loss = 6.531\n",
      "Epoch   3 Batch    7/35   train_loss = 6.496\n",
      "Epoch   3 Batch   14/35   train_loss = 6.425\n",
      "Epoch   3 Batch   21/35   train_loss = 6.504\n",
      "Epoch   3 Batch   28/35   train_loss = 6.346\n",
      "Epoch   4 Batch    0/35   train_loss = 6.262\n",
      "Epoch   4 Batch    7/35   train_loss = 6.428\n",
      "Epoch   4 Batch   14/35   train_loss = 6.309\n",
      "Epoch   4 Batch   21/35   train_loss = 6.429\n",
      "Epoch   4 Batch   28/35   train_loss = 6.329\n",
      "Epoch   5 Batch    0/35   train_loss = 6.225\n",
      "Epoch   5 Batch    7/35   train_loss = 6.322\n",
      "Epoch   5 Batch   14/35   train_loss = 6.169\n",
      "Epoch   5 Batch   21/35   train_loss = 6.286\n",
      "Epoch   5 Batch   28/35   train_loss = 6.219\n",
      "Epoch   6 Batch    0/35   train_loss = 6.099\n",
      "Epoch   6 Batch    7/35   train_loss = 6.121\n",
      "Epoch   6 Batch   14/35   train_loss = 6.003\n",
      "Epoch   6 Batch   21/35   train_loss = 6.073\n",
      "Epoch   6 Batch   28/35   train_loss = 5.974\n",
      "Epoch   7 Batch    0/35   train_loss = 5.883\n",
      "Epoch   7 Batch    7/35   train_loss = 5.946\n",
      "Epoch   7 Batch   14/35   train_loss = 5.752\n",
      "Epoch   7 Batch   21/35   train_loss = 5.808\n",
      "Epoch   7 Batch   28/35   train_loss = 5.737\n",
      "Epoch   8 Batch    0/35   train_loss = 5.614\n",
      "Epoch   8 Batch    7/35   train_loss = 5.668\n",
      "Epoch   8 Batch   14/35   train_loss = 5.592\n",
      "Epoch   8 Batch   21/35   train_loss = 5.585\n",
      "Epoch   8 Batch   28/35   train_loss = 5.484\n",
      "Epoch   9 Batch    0/35   train_loss = 5.409\n",
      "Epoch   9 Batch    7/35   train_loss = 5.473\n",
      "Epoch   9 Batch   14/35   train_loss = 5.404\n",
      "Epoch   9 Batch   21/35   train_loss = 5.404\n",
      "Epoch   9 Batch   28/35   train_loss = 5.329\n",
      "Epoch  10 Batch    0/35   train_loss = 5.263\n",
      "Epoch  10 Batch    7/35   train_loss = 5.382\n",
      "Epoch  10 Batch   14/35   train_loss = 5.244\n",
      "Epoch  10 Batch   21/35   train_loss = 5.234\n",
      "Epoch  10 Batch   28/35   train_loss = 5.190\n",
      "Epoch  11 Batch    0/35   train_loss = 5.154\n",
      "Epoch  11 Batch    7/35   train_loss = 5.214\n",
      "Epoch  11 Batch   14/35   train_loss = 5.169\n",
      "Epoch  11 Batch   21/35   train_loss = 5.119\n",
      "Epoch  11 Batch   28/35   train_loss = 5.112\n",
      "Epoch  12 Batch    0/35   train_loss = 5.078\n",
      "Epoch  12 Batch    7/35   train_loss = 5.107\n",
      "Epoch  12 Batch   14/35   train_loss = 5.176\n",
      "Epoch  12 Batch   21/35   train_loss = 5.069\n",
      "Epoch  12 Batch   28/35   train_loss = 5.027\n",
      "Epoch  13 Batch    0/35   train_loss = 5.016\n",
      "Epoch  13 Batch    7/35   train_loss = 5.012\n",
      "Epoch  13 Batch   14/35   train_loss = 5.099\n",
      "Epoch  13 Batch   21/35   train_loss = 5.178\n",
      "Epoch  13 Batch   28/35   train_loss = 4.977\n",
      "Epoch  14 Batch    0/35   train_loss = 4.969\n",
      "Epoch  14 Batch    7/35   train_loss = 4.985\n",
      "Epoch  14 Batch   14/35   train_loss = 5.019\n",
      "Epoch  14 Batch   21/35   train_loss = 5.011\n",
      "Epoch  14 Batch   28/35   train_loss = 4.939\n",
      "Epoch  15 Batch    0/35   train_loss = 4.933\n",
      "Epoch  15 Batch    7/35   train_loss = 4.996\n",
      "Epoch  15 Batch   14/35   train_loss = 4.957\n",
      "Epoch  15 Batch   21/35   train_loss = 4.957\n",
      "Epoch  15 Batch   28/35   train_loss = 4.873\n",
      "Epoch  16 Batch    0/35   train_loss = 4.887\n",
      "Epoch  16 Batch    7/35   train_loss = 4.957\n",
      "Epoch  16 Batch   14/35   train_loss = 4.891\n",
      "Epoch  16 Batch   21/35   train_loss = 4.979\n",
      "Epoch  16 Batch   28/35   train_loss = 4.851\n",
      "Epoch  17 Batch    0/35   train_loss = 4.861\n",
      "Epoch  17 Batch    7/35   train_loss = 4.970\n",
      "Epoch  17 Batch   14/35   train_loss = 4.857\n",
      "Epoch  17 Batch   21/35   train_loss = 4.910\n",
      "Epoch  17 Batch   28/35   train_loss = 4.826\n",
      "Epoch  18 Batch    0/35   train_loss = 4.819\n",
      "Epoch  18 Batch    7/35   train_loss = 4.913\n",
      "Epoch  18 Batch   14/35   train_loss = 4.847\n",
      "Epoch  18 Batch   21/35   train_loss = 4.911\n",
      "Epoch  18 Batch   28/35   train_loss = 4.826\n",
      "Epoch  19 Batch    0/35   train_loss = 4.787\n",
      "Epoch  19 Batch    7/35   train_loss = 4.954\n",
      "Epoch  19 Batch   14/35   train_loss = 4.867\n",
      "Epoch  19 Batch   21/35   train_loss = 4.812\n",
      "Epoch  19 Batch   28/35   train_loss = 4.789\n",
      "Epoch  20 Batch    0/35   train_loss = 4.786\n",
      "Epoch  20 Batch    7/35   train_loss = 4.862\n",
      "Epoch  20 Batch   14/35   train_loss = 4.782\n",
      "Epoch  20 Batch   21/35   train_loss = 4.791\n",
      "Epoch  20 Batch   28/35   train_loss = 4.748\n",
      "Epoch  21 Batch    0/35   train_loss = 4.757\n",
      "Epoch  21 Batch    7/35   train_loss = 4.844\n",
      "Epoch  21 Batch   14/35   train_loss = 4.766\n",
      "Epoch  21 Batch   21/35   train_loss = 4.776\n",
      "Epoch  21 Batch   28/35   train_loss = 4.735\n",
      "Epoch  22 Batch    0/35   train_loss = 4.722\n",
      "Epoch  22 Batch    7/35   train_loss = 4.800\n",
      "Epoch  22 Batch   14/35   train_loss = 4.741\n",
      "Epoch  22 Batch   21/35   train_loss = 4.741\n",
      "Epoch  22 Batch   28/35   train_loss = 4.698\n",
      "Epoch  23 Batch    0/35   train_loss = 4.683\n",
      "Epoch  23 Batch    7/35   train_loss = 4.754\n",
      "Epoch  23 Batch   14/35   train_loss = 4.710\n",
      "Epoch  23 Batch   21/35   train_loss = 4.699\n",
      "Epoch  23 Batch   28/35   train_loss = 4.667\n",
      "Epoch  24 Batch    0/35   train_loss = 4.658\n",
      "Epoch  24 Batch    7/35   train_loss = 4.706\n",
      "Epoch  24 Batch   14/35   train_loss = 4.716\n",
      "Epoch  24 Batch   21/35   train_loss = 4.673\n",
      "Epoch  24 Batch   28/35   train_loss = 4.610\n",
      "Epoch  25 Batch    0/35   train_loss = 4.637\n",
      "Epoch  25 Batch    7/35   train_loss = 4.692\n",
      "Epoch  25 Batch   14/35   train_loss = 4.646\n",
      "Epoch  25 Batch   21/35   train_loss = 4.610\n",
      "Epoch  25 Batch   28/35   train_loss = 4.580\n",
      "Epoch  26 Batch    0/35   train_loss = 4.600\n",
      "Epoch  26 Batch    7/35   train_loss = 4.626\n",
      "Epoch  26 Batch   14/35   train_loss = 4.638\n",
      "Epoch  26 Batch   21/35   train_loss = 4.598\n",
      "Epoch  26 Batch   28/35   train_loss = 4.573\n",
      "Epoch  27 Batch    0/35   train_loss = 4.580\n",
      "Epoch  27 Batch    7/35   train_loss = 4.635\n",
      "Epoch  27 Batch   14/35   train_loss = 4.604\n",
      "Epoch  27 Batch   21/35   train_loss = 4.587\n",
      "Epoch  27 Batch   28/35   train_loss = 4.547\n",
      "Epoch  28 Batch    0/35   train_loss = 4.535\n",
      "Epoch  28 Batch    7/35   train_loss = 4.628\n",
      "Epoch  28 Batch   14/35   train_loss = 4.667\n",
      "Epoch  28 Batch   21/35   train_loss = 4.662\n",
      "Epoch  28 Batch   28/35   train_loss = 4.611\n",
      "Epoch  29 Batch    0/35   train_loss = 4.652\n",
      "Epoch  29 Batch    7/35   train_loss = 4.681\n",
      "Epoch  29 Batch   14/35   train_loss = 4.610\n",
      "Epoch  29 Batch   21/35   train_loss = 4.544\n",
      "Epoch  29 Batch   28/35   train_loss = 4.532\n",
      "Epoch  30 Batch    0/35   train_loss = 4.515\n",
      "Epoch  30 Batch    7/35   train_loss = 4.540\n",
      "Epoch  30 Batch   14/35   train_loss = 4.574\n",
      "Epoch  30 Batch   21/35   train_loss = 4.580\n",
      "Epoch  30 Batch   28/35   train_loss = 4.494\n",
      "Epoch  31 Batch    0/35   train_loss = 4.480\n",
      "Epoch  31 Batch    7/35   train_loss = 4.574\n",
      "Epoch  31 Batch   14/35   train_loss = 4.545\n",
      "Epoch  31 Batch   21/35   train_loss = 4.494\n",
      "Epoch  31 Batch   28/35   train_loss = 4.475\n",
      "Epoch  32 Batch    0/35   train_loss = 4.470\n",
      "Epoch  32 Batch    7/35   train_loss = 4.484\n",
      "Epoch  32 Batch   14/35   train_loss = 4.542\n",
      "Epoch  32 Batch   21/35   train_loss = 4.473\n",
      "Epoch  32 Batch   28/35   train_loss = 4.432\n",
      "Epoch  33 Batch    0/35   train_loss = 4.455\n",
      "Epoch  33 Batch    7/35   train_loss = 4.460\n",
      "Epoch  33 Batch   14/35   train_loss = 4.517\n",
      "Epoch  33 Batch   21/35   train_loss = 4.472\n",
      "Epoch  33 Batch   28/35   train_loss = 4.434\n",
      "Epoch  34 Batch    0/35   train_loss = 4.445\n",
      "Epoch  34 Batch    7/35   train_loss = 4.433\n",
      "Epoch  34 Batch   14/35   train_loss = 4.459\n",
      "Epoch  34 Batch   21/35   train_loss = 4.439\n",
      "Epoch  34 Batch   28/35   train_loss = 4.384\n",
      "Epoch  35 Batch    0/35   train_loss = 4.427\n",
      "Epoch  35 Batch    7/35   train_loss = 4.390\n",
      "Epoch  35 Batch   14/35   train_loss = 4.444\n",
      "Epoch  35 Batch   21/35   train_loss = 4.441\n",
      "Epoch  35 Batch   28/35   train_loss = 4.362\n",
      "Epoch  36 Batch    0/35   train_loss = 4.429\n",
      "Epoch  36 Batch    7/35   train_loss = 4.465\n",
      "Epoch  36 Batch   14/35   train_loss = 4.488\n",
      "Epoch  36 Batch   21/35   train_loss = 4.417\n",
      "Epoch  36 Batch   28/35   train_loss = 4.323\n",
      "Epoch  37 Batch    0/35   train_loss = 4.379\n",
      "Epoch  37 Batch    7/35   train_loss = 4.379\n",
      "Epoch  37 Batch   14/35   train_loss = 4.417\n",
      "Epoch  37 Batch   21/35   train_loss = 4.384\n",
      "Epoch  37 Batch   28/35   train_loss = 4.318\n",
      "Epoch  38 Batch    0/35   train_loss = 4.364\n",
      "Epoch  38 Batch    7/35   train_loss = 4.393\n",
      "Epoch  38 Batch   14/35   train_loss = 4.467\n",
      "Epoch  38 Batch   21/35   train_loss = 4.322\n",
      "Epoch  38 Batch   28/35   train_loss = 4.287\n",
      "Epoch  39 Batch    0/35   train_loss = 4.378\n",
      "Epoch  39 Batch    7/35   train_loss = 4.336\n",
      "Epoch  39 Batch   14/35   train_loss = 4.365\n",
      "Epoch  39 Batch   21/35   train_loss = 4.344\n",
      "Epoch  39 Batch   28/35   train_loss = 4.269\n",
      "Epoch  40 Batch    0/35   train_loss = 4.351\n",
      "Epoch  40 Batch    7/35   train_loss = 4.338\n",
      "Epoch  40 Batch   14/35   train_loss = 4.309\n",
      "Epoch  40 Batch   21/35   train_loss = 4.318\n",
      "Epoch  40 Batch   28/35   train_loss = 4.277\n",
      "Epoch  41 Batch    0/35   train_loss = 4.304\n",
      "Epoch  41 Batch    7/35   train_loss = 4.286\n",
      "Epoch  41 Batch   14/35   train_loss = 4.302\n",
      "Epoch  41 Batch   21/35   train_loss = 4.295\n",
      "Epoch  41 Batch   28/35   train_loss = 4.230\n",
      "Epoch  42 Batch    0/35   train_loss = 4.282\n",
      "Epoch  42 Batch    7/35   train_loss = 4.268\n",
      "Epoch  42 Batch   14/35   train_loss = 4.260\n",
      "Epoch  42 Batch   21/35   train_loss = 4.255\n",
      "Epoch  42 Batch   28/35   train_loss = 4.197\n",
      "Epoch  43 Batch    0/35   train_loss = 4.246\n",
      "Epoch  43 Batch    7/35   train_loss = 4.223\n",
      "Epoch  43 Batch   14/35   train_loss = 4.246\n",
      "Epoch  43 Batch   21/35   train_loss = 4.211\n",
      "Epoch  43 Batch   28/35   train_loss = 4.184\n",
      "Epoch  44 Batch    0/35   train_loss = 4.235\n",
      "Epoch  44 Batch    7/35   train_loss = 4.181\n",
      "Epoch  44 Batch   14/35   train_loss = 4.243\n",
      "Epoch  44 Batch   21/35   train_loss = 4.197\n",
      "Epoch  44 Batch   28/35   train_loss = 4.139\n",
      "Epoch  45 Batch    0/35   train_loss = 4.204\n",
      "Epoch  45 Batch    7/35   train_loss = 4.193\n",
      "Epoch  45 Batch   14/35   train_loss = 4.186\n",
      "Epoch  45 Batch   21/35   train_loss = 4.162\n",
      "Epoch  45 Batch   28/35   train_loss = 4.124\n",
      "Epoch  46 Batch    0/35   train_loss = 4.168\n",
      "Epoch  46 Batch    7/35   train_loss = 4.160\n",
      "Epoch  46 Batch   14/35   train_loss = 4.171\n",
      "Epoch  46 Batch   21/35   train_loss = 4.154\n",
      "Epoch  46 Batch   28/35   train_loss = 4.098\n",
      "Epoch  47 Batch    0/35   train_loss = 4.150\n",
      "Epoch  47 Batch    7/35   train_loss = 4.121\n",
      "Epoch  47 Batch   14/35   train_loss = 4.103\n",
      "Epoch  47 Batch   21/35   train_loss = 4.119\n",
      "Epoch  47 Batch   28/35   train_loss = 4.067\n",
      "Epoch  48 Batch    0/35   train_loss = 4.122\n",
      "Epoch  48 Batch    7/35   train_loss = 4.117\n",
      "Epoch  48 Batch   14/35   train_loss = 4.126\n",
      "Epoch  48 Batch   21/35   train_loss = 4.113\n",
      "Epoch  48 Batch   28/35   train_loss = 4.032\n",
      "Epoch  49 Batch    0/35   train_loss = 4.099\n",
      "Epoch  49 Batch    7/35   train_loss = 4.087\n",
      "Epoch  49 Batch   14/35   train_loss = 4.071\n",
      "Epoch  49 Batch   21/35   train_loss = 4.079\n",
      "Epoch  49 Batch   28/35   train_loss = 4.019\n",
      "Epoch  50 Batch    0/35   train_loss = 4.073\n",
      "Epoch  50 Batch    7/35   train_loss = 4.075\n",
      "Epoch  50 Batch   14/35   train_loss = 4.062\n",
      "Epoch  50 Batch   21/35   train_loss = 4.033\n",
      "Epoch  50 Batch   28/35   train_loss = 3.992\n",
      "Epoch  51 Batch    0/35   train_loss = 4.022\n",
      "Epoch  51 Batch    7/35   train_loss = 4.077\n",
      "Epoch  51 Batch   14/35   train_loss = 4.053\n",
      "Epoch  51 Batch   21/35   train_loss = 4.036\n",
      "Epoch  51 Batch   28/35   train_loss = 3.952\n",
      "Epoch  52 Batch    0/35   train_loss = 3.985\n",
      "Epoch  52 Batch    7/35   train_loss = 4.032\n",
      "Epoch  52 Batch   14/35   train_loss = 4.026\n",
      "Epoch  52 Batch   21/35   train_loss = 3.976\n",
      "Epoch  52 Batch   28/35   train_loss = 3.910\n",
      "Epoch  53 Batch    0/35   train_loss = 3.978\n",
      "Epoch  53 Batch    7/35   train_loss = 3.993\n",
      "Epoch  53 Batch   14/35   train_loss = 3.974\n",
      "Epoch  53 Batch   21/35   train_loss = 3.974\n",
      "Epoch  53 Batch   28/35   train_loss = 3.909\n",
      "Epoch  54 Batch    0/35   train_loss = 3.970\n",
      "Epoch  54 Batch    7/35   train_loss = 3.995\n",
      "Epoch  54 Batch   14/35   train_loss = 3.973\n",
      "Epoch  54 Batch   21/35   train_loss = 3.980\n",
      "Epoch  54 Batch   28/35   train_loss = 3.891\n",
      "Epoch  55 Batch    0/35   train_loss = 3.942\n",
      "Epoch  55 Batch    7/35   train_loss = 3.991\n",
      "Epoch  55 Batch   14/35   train_loss = 3.933\n",
      "Epoch  55 Batch   21/35   train_loss = 3.949\n",
      "Epoch  55 Batch   28/35   train_loss = 3.868\n",
      "Epoch  56 Batch    0/35   train_loss = 3.917\n",
      "Epoch  56 Batch    7/35   train_loss = 3.968\n",
      "Epoch  56 Batch   14/35   train_loss = 3.918\n",
      "Epoch  56 Batch   21/35   train_loss = 3.929\n",
      "Epoch  56 Batch   28/35   train_loss = 3.837\n",
      "Epoch  57 Batch    0/35   train_loss = 3.889\n",
      "Epoch  57 Batch    7/35   train_loss = 3.943\n",
      "Epoch  57 Batch   14/35   train_loss = 3.903\n",
      "Epoch  57 Batch   21/35   train_loss = 3.889\n",
      "Epoch  57 Batch   28/35   train_loss = 3.822\n",
      "Epoch  58 Batch    0/35   train_loss = 3.875\n",
      "Epoch  58 Batch    7/35   train_loss = 3.925\n",
      "Epoch  58 Batch   14/35   train_loss = 3.866\n",
      "Epoch  58 Batch   21/35   train_loss = 3.860\n",
      "Epoch  58 Batch   28/35   train_loss = 3.787\n",
      "Epoch  59 Batch    0/35   train_loss = 3.853\n",
      "Epoch  59 Batch    7/35   train_loss = 3.907\n",
      "Epoch  59 Batch   14/35   train_loss = 3.825\n",
      "Epoch  59 Batch   21/35   train_loss = 3.863\n",
      "Epoch  59 Batch   28/35   train_loss = 3.773\n",
      "Epoch  60 Batch    0/35   train_loss = 3.810\n",
      "Epoch  60 Batch    7/35   train_loss = 3.876\n",
      "Epoch  60 Batch   14/35   train_loss = 3.791\n",
      "Epoch  60 Batch   21/35   train_loss = 3.859\n",
      "Epoch  60 Batch   28/35   train_loss = 3.734\n",
      "Epoch  61 Batch    0/35   train_loss = 3.778\n",
      "Epoch  61 Batch    7/35   train_loss = 3.860\n",
      "Epoch  61 Batch   14/35   train_loss = 3.794\n",
      "Epoch  61 Batch   21/35   train_loss = 3.875\n",
      "Epoch  61 Batch   28/35   train_loss = 3.694\n",
      "Epoch  62 Batch    0/35   train_loss = 3.735\n",
      "Epoch  62 Batch    7/35   train_loss = 3.839\n",
      "Epoch  62 Batch   14/35   train_loss = 3.776\n",
      "Epoch  62 Batch   21/35   train_loss = 3.809\n",
      "Epoch  62 Batch   28/35   train_loss = 3.689\n",
      "Epoch  63 Batch    0/35   train_loss = 3.741\n",
      "Epoch  63 Batch    7/35   train_loss = 3.832\n",
      "Epoch  63 Batch   14/35   train_loss = 3.775\n",
      "Epoch  63 Batch   21/35   train_loss = 3.804\n",
      "Epoch  63 Batch   28/35   train_loss = 3.690\n",
      "Epoch  64 Batch    0/35   train_loss = 3.750\n",
      "Epoch  64 Batch    7/35   train_loss = 3.797\n",
      "Epoch  64 Batch   14/35   train_loss = 3.748\n",
      "Epoch  64 Batch   21/35   train_loss = 3.767\n",
      "Epoch  64 Batch   28/35   train_loss = 3.690\n",
      "Epoch  65 Batch    0/35   train_loss = 3.700\n",
      "Epoch  65 Batch    7/35   train_loss = 3.753\n",
      "Epoch  65 Batch   14/35   train_loss = 3.733\n",
      "Epoch  65 Batch   21/35   train_loss = 3.757\n",
      "Epoch  65 Batch   28/35   train_loss = 3.647\n",
      "Epoch  66 Batch    0/35   train_loss = 3.688\n",
      "Epoch  66 Batch    7/35   train_loss = 3.742\n",
      "Epoch  66 Batch   14/35   train_loss = 3.699\n",
      "Epoch  66 Batch   21/35   train_loss = 3.721\n",
      "Epoch  66 Batch   28/35   train_loss = 3.609\n",
      "Epoch  67 Batch    0/35   train_loss = 3.654\n",
      "Epoch  67 Batch    7/35   train_loss = 3.720\n",
      "Epoch  67 Batch   14/35   train_loss = 3.698\n",
      "Epoch  67 Batch   21/35   train_loss = 3.693\n",
      "Epoch  67 Batch   28/35   train_loss = 3.629\n",
      "Epoch  68 Batch    0/35   train_loss = 3.674\n",
      "Epoch  68 Batch    7/35   train_loss = 3.734\n",
      "Epoch  68 Batch   14/35   train_loss = 3.667\n",
      "Epoch  68 Batch   21/35   train_loss = 3.683\n",
      "Epoch  68 Batch   28/35   train_loss = 3.606\n",
      "Epoch  69 Batch    0/35   train_loss = 3.638\n",
      "Epoch  69 Batch    7/35   train_loss = 3.707\n",
      "Epoch  69 Batch   14/35   train_loss = 3.660\n",
      "Epoch  69 Batch   21/35   train_loss = 3.663\n",
      "Epoch  69 Batch   28/35   train_loss = 3.578\n",
      "Epoch  70 Batch    0/35   train_loss = 3.644\n",
      "Epoch  70 Batch    7/35   train_loss = 3.690\n",
      "Epoch  70 Batch   14/35   train_loss = 3.669\n",
      "Epoch  70 Batch   21/35   train_loss = 3.699\n",
      "Epoch  70 Batch   28/35   train_loss = 3.562\n",
      "Epoch  71 Batch    0/35   train_loss = 3.634\n",
      "Epoch  71 Batch    7/35   train_loss = 3.681\n",
      "Epoch  71 Batch   14/35   train_loss = 3.628\n",
      "Epoch  71 Batch   21/35   train_loss = 3.680\n",
      "Epoch  71 Batch   28/35   train_loss = 3.552\n",
      "Epoch  72 Batch    0/35   train_loss = 3.585\n",
      "Epoch  72 Batch    7/35   train_loss = 3.692\n",
      "Epoch  72 Batch   14/35   train_loss = 3.632\n",
      "Epoch  72 Batch   21/35   train_loss = 3.655\n",
      "Epoch  72 Batch   28/35   train_loss = 3.550\n",
      "Epoch  73 Batch    0/35   train_loss = 3.554\n",
      "Epoch  73 Batch    7/35   train_loss = 3.645\n",
      "Epoch  73 Batch   14/35   train_loss = 3.612\n",
      "Epoch  73 Batch   21/35   train_loss = 3.623\n",
      "Epoch  73 Batch   28/35   train_loss = 3.522\n",
      "Epoch  74 Batch    0/35   train_loss = 3.528\n",
      "Epoch  74 Batch    7/35   train_loss = 3.613\n",
      "Epoch  74 Batch   14/35   train_loss = 3.583\n",
      "Epoch  74 Batch   21/35   train_loss = 3.573\n",
      "Epoch  74 Batch   28/35   train_loss = 3.502\n",
      "Epoch  75 Batch    0/35   train_loss = 3.509\n",
      "Epoch  75 Batch    7/35   train_loss = 3.606\n",
      "Epoch  75 Batch   14/35   train_loss = 3.529\n",
      "Epoch  75 Batch   21/35   train_loss = 3.586\n",
      "Epoch  75 Batch   28/35   train_loss = 3.507\n",
      "Epoch  76 Batch    0/35   train_loss = 3.458\n",
      "Epoch  76 Batch    7/35   train_loss = 3.559\n",
      "Epoch  76 Batch   14/35   train_loss = 3.507\n",
      "Epoch  76 Batch   21/35   train_loss = 3.569\n",
      "Epoch  76 Batch   28/35   train_loss = 3.484\n",
      "Epoch  77 Batch    0/35   train_loss = 3.485\n",
      "Epoch  77 Batch    7/35   train_loss = 3.560\n",
      "Epoch  77 Batch   14/35   train_loss = 3.525\n",
      "Epoch  77 Batch   21/35   train_loss = 3.552\n",
      "Epoch  77 Batch   28/35   train_loss = 3.477\n",
      "Epoch  78 Batch    0/35   train_loss = 3.473\n",
      "Epoch  78 Batch    7/35   train_loss = 3.577\n",
      "Epoch  78 Batch   14/35   train_loss = 3.515\n",
      "Epoch  78 Batch   21/35   train_loss = 3.527\n",
      "Epoch  78 Batch   28/35   train_loss = 3.431\n",
      "Epoch  79 Batch    0/35   train_loss = 3.431\n",
      "Epoch  79 Batch    7/35   train_loss = 3.537\n",
      "Epoch  79 Batch   14/35   train_loss = 3.458\n",
      "Epoch  79 Batch   21/35   train_loss = 3.491\n",
      "Epoch  79 Batch   28/35   train_loss = 3.464\n",
      "Epoch  80 Batch    0/35   train_loss = 3.459\n",
      "Epoch  80 Batch    7/35   train_loss = 3.524\n",
      "Epoch  80 Batch   14/35   train_loss = 3.460\n",
      "Epoch  80 Batch   21/35   train_loss = 3.481\n",
      "Epoch  80 Batch   28/35   train_loss = 3.440\n",
      "Epoch  81 Batch    0/35   train_loss = 3.439\n",
      "Epoch  81 Batch    7/35   train_loss = 3.496\n",
      "Epoch  81 Batch   14/35   train_loss = 3.443\n",
      "Epoch  81 Batch   21/35   train_loss = 3.449\n",
      "Epoch  81 Batch   28/35   train_loss = 3.406\n",
      "Epoch  82 Batch    0/35   train_loss = 3.410\n",
      "Epoch  82 Batch    7/35   train_loss = 3.469\n",
      "Epoch  82 Batch   14/35   train_loss = 3.463\n",
      "Epoch  82 Batch   21/35   train_loss = 3.420\n",
      "Epoch  82 Batch   28/35   train_loss = 3.358\n",
      "Epoch  83 Batch    0/35   train_loss = 3.373\n",
      "Epoch  83 Batch    7/35   train_loss = 3.458\n",
      "Epoch  83 Batch   14/35   train_loss = 3.430\n",
      "Epoch  83 Batch   21/35   train_loss = 3.459\n",
      "Epoch  83 Batch   28/35   train_loss = 3.369\n",
      "Epoch  84 Batch    0/35   train_loss = 3.431\n",
      "Epoch  84 Batch    7/35   train_loss = 3.448\n",
      "Epoch  84 Batch   14/35   train_loss = 3.416\n",
      "Epoch  84 Batch   21/35   train_loss = 3.413\n",
      "Epoch  84 Batch   28/35   train_loss = 3.323\n",
      "Epoch  85 Batch    0/35   train_loss = 3.396\n",
      "Epoch  85 Batch    7/35   train_loss = 3.407\n",
      "Epoch  85 Batch   14/35   train_loss = 3.395\n",
      "Epoch  85 Batch   21/35   train_loss = 3.404\n",
      "Epoch  85 Batch   28/35   train_loss = 3.351\n",
      "Epoch  86 Batch    0/35   train_loss = 3.370\n",
      "Epoch  86 Batch    7/35   train_loss = 3.415\n",
      "Epoch  86 Batch   14/35   train_loss = 3.387\n",
      "Epoch  86 Batch   21/35   train_loss = 3.436\n",
      "Epoch  86 Batch   28/35   train_loss = 3.332\n",
      "Epoch  87 Batch    0/35   train_loss = 3.373\n",
      "Epoch  87 Batch    7/35   train_loss = 3.376\n",
      "Epoch  87 Batch   14/35   train_loss = 3.458\n",
      "Epoch  87 Batch   21/35   train_loss = 3.479\n",
      "Epoch  87 Batch   28/35   train_loss = 3.373\n",
      "Epoch  88 Batch    0/35   train_loss = 3.437\n",
      "Epoch  88 Batch    7/35   train_loss = 3.398\n",
      "Epoch  88 Batch   14/35   train_loss = 3.394\n",
      "Epoch  88 Batch   21/35   train_loss = 3.345\n",
      "Epoch  88 Batch   28/35   train_loss = 3.312\n",
      "Epoch  89 Batch    0/35   train_loss = 3.324\n",
      "Epoch  89 Batch    7/35   train_loss = 3.344\n",
      "Epoch  89 Batch   14/35   train_loss = 3.403\n",
      "Epoch  89 Batch   21/35   train_loss = 3.407\n",
      "Epoch  89 Batch   28/35   train_loss = 3.376\n",
      "Epoch  90 Batch    0/35   train_loss = 3.321\n",
      "Epoch  90 Batch    7/35   train_loss = 3.356\n",
      "Epoch  90 Batch   14/35   train_loss = 3.349\n",
      "Epoch  90 Batch   21/35   train_loss = 3.376\n",
      "Epoch  90 Batch   28/35   train_loss = 3.370\n",
      "Epoch  91 Batch    0/35   train_loss = 3.281\n",
      "Epoch  91 Batch    7/35   train_loss = 3.326\n",
      "Epoch  91 Batch   14/35   train_loss = 3.335\n",
      "Epoch  91 Batch   21/35   train_loss = 3.354\n",
      "Epoch  91 Batch   28/35   train_loss = 3.305\n",
      "Epoch  92 Batch    0/35   train_loss = 3.278\n",
      "Epoch  92 Batch    7/35   train_loss = 3.309\n",
      "Epoch  92 Batch   14/35   train_loss = 3.326\n",
      "Epoch  92 Batch   21/35   train_loss = 3.331\n",
      "Epoch  92 Batch   28/35   train_loss = 3.278\n",
      "Epoch  93 Batch    0/35   train_loss = 3.232\n",
      "Epoch  93 Batch    7/35   train_loss = 3.274\n",
      "Epoch  93 Batch   14/35   train_loss = 3.308\n",
      "Epoch  93 Batch   21/35   train_loss = 3.306\n",
      "Epoch  93 Batch   28/35   train_loss = 3.313\n",
      "Epoch  94 Batch    0/35   train_loss = 3.220\n",
      "Epoch  94 Batch    7/35   train_loss = 3.277\n",
      "Epoch  94 Batch   14/35   train_loss = 3.267\n",
      "Epoch  94 Batch   21/35   train_loss = 3.285\n",
      "Epoch  94 Batch   28/35   train_loss = 3.260\n",
      "Epoch  95 Batch    0/35   train_loss = 3.242\n",
      "Epoch  95 Batch    7/35   train_loss = 3.269\n",
      "Epoch  95 Batch   14/35   train_loss = 3.227\n",
      "Epoch  95 Batch   21/35   train_loss = 3.304\n",
      "Epoch  95 Batch   28/35   train_loss = 3.204\n",
      "Epoch  96 Batch    0/35   train_loss = 3.241\n",
      "Epoch  96 Batch    7/35   train_loss = 3.245\n",
      "Epoch  96 Batch   14/35   train_loss = 3.229\n",
      "Epoch  96 Batch   21/35   train_loss = 3.260\n",
      "Epoch  96 Batch   28/35   train_loss = 3.203\n",
      "Epoch  97 Batch    0/35   train_loss = 3.241\n",
      "Epoch  97 Batch    7/35   train_loss = 3.268\n",
      "Epoch  97 Batch   14/35   train_loss = 3.198\n",
      "Epoch  97 Batch   21/35   train_loss = 3.274\n",
      "Epoch  97 Batch   28/35   train_loss = 3.230\n",
      "Epoch  98 Batch    0/35   train_loss = 3.190\n",
      "Epoch  98 Batch    7/35   train_loss = 3.225\n",
      "Epoch  98 Batch   14/35   train_loss = 3.204\n",
      "Epoch  98 Batch   21/35   train_loss = 3.282\n",
      "Epoch  98 Batch   28/35   train_loss = 3.211\n",
      "Epoch  99 Batch    0/35   train_loss = 3.197\n",
      "Epoch  99 Batch    7/35   train_loss = 3.230\n",
      "Epoch  99 Batch   14/35   train_loss = 3.188\n",
      "Epoch  99 Batch   21/35   train_loss = 3.272\n",
      "Epoch  99 Batch   28/35   train_loss = 3.203\n",
      "Model Trained and Saved\n"
     ]
    }
   ],
   "source": [
    "\"\"\"\n",
    "DON'T MODIFY ANYTHING IN THIS CELL\n",
    "\"\"\"\n",
    "batches = get_batches(int_text, batch_size, seq_length)\n",
    "\n",
    "with tf.Session(graph=train_graph) as sess:\n",
    "    sess.run(tf.global_variables_initializer())\n",
    "\n",
    "    for epoch_i in range(num_epochs):\n",
    "        state = sess.run(initial_state, {input_text: batches[0][0]})\n",
    "\n",
    "        for batch_i, (x, y) in enumerate(batches):\n",
    "            feed = {\n",
    "                input_text: x,\n",
    "                targets: y,\n",
    "                initial_state: state,\n",
    "                lr: learning_rate}\n",
    "            train_loss, state, _ = sess.run([cost, final_state, train_op], feed)\n",
    "\n",
    "            # Show every <show_every_n_batches> batches\n",
    "            if (epoch_i * len(batches) + batch_i) % show_every_n_batches == 0:\n",
    "                print('Epoch {:>3} Batch {:>4}/{}   train_loss = {:.3f}'.format(\n",
    "                    epoch_i,\n",
    "                    batch_i,\n",
    "                    len(batches),\n",
    "                    train_loss))\n",
    "\n",
    "    # Save Model\n",
    "    saver = tf.train.Saver()\n",
    "    saver.save(sess, save_dir)\n",
    "    print('Model Trained and Saved')"
   ]
  },
  {
   "cell_type": "markdown",
   "metadata": {
    "deletable": true,
    "editable": true
   },
   "source": [
    "## Save Parameters\n",
    "Save `seq_length` and `save_dir` for generating a new TV script."
   ]
  },
  {
   "cell_type": "code",
   "execution_count": 28,
   "metadata": {
    "collapsed": true,
    "deletable": true,
    "editable": true
   },
   "outputs": [],
   "source": [
    "\"\"\"\n",
    "DON'T MODIFY ANYTHING IN THIS CELL\n",
    "\"\"\"\n",
    "# Save parameters for checkpoint\n",
    "helper.save_params((seq_length, save_dir))"
   ]
  },
  {
   "cell_type": "markdown",
   "metadata": {
    "deletable": true,
    "editable": true
   },
   "source": [
    "# Checkpoint"
   ]
  },
  {
   "cell_type": "code",
   "execution_count": 29,
   "metadata": {
    "collapsed": true,
    "deletable": true,
    "editable": true
   },
   "outputs": [],
   "source": [
    "\"\"\"\n",
    "DON'T MODIFY ANYTHING IN THIS CELL\n",
    "\"\"\"\n",
    "import tensorflow as tf\n",
    "import numpy as np\n",
    "import helper\n",
    "import problem_unittests as tests\n",
    "\n",
    "_, vocab_to_int, int_to_vocab, token_dict = helper.load_preprocess()\n",
    "seq_length, load_dir = helper.load_params()"
   ]
  },
  {
   "cell_type": "markdown",
   "metadata": {
    "deletable": true,
    "editable": true
   },
   "source": [
    "## Implement Generate Functions\n",
    "### Get Tensors\n",
    "Get tensors from `loaded_graph` using the function [`get_tensor_by_name()`](https://www.tensorflow.org/api_docs/python/tf/Graph#get_tensor_by_name).  Get the tensors using the following names:\n",
    "- \"input:0\"\n",
    "- \"initial_state:0\"\n",
    "- \"final_state:0\"\n",
    "- \"probs:0\"\n",
    "\n",
    "Return the tensors in the following tuple `(InputTensor, InitialStateTensor, FinalStateTensor, ProbsTensor)` "
   ]
  },
  {
   "cell_type": "code",
   "execution_count": 30,
   "metadata": {
    "collapsed": false,
    "deletable": true,
    "editable": true
   },
   "outputs": [
    {
     "name": "stdout",
     "output_type": "stream",
     "text": [
      "Tests Passed\n"
     ]
    }
   ],
   "source": [
    "def get_tensors(loaded_graph):\n",
    "    \"\"\"\n",
    "    Get input, initial state, final state, and probabilities tensor from <loaded_graph>\n",
    "    :param loaded_graph: TensorFlow graph loaded from file\n",
    "    :return: Tuple (InputTensor, InitialStateTensor, FinalStateTensor, ProbsTensor)\n",
    "    \"\"\"\n",
    "    # TODO: Implement Function\n",
    "    inputTensor = loaded_graph.get_tensor_by_name('input:0')\n",
    "    initial_state = loaded_graph.get_tensor_by_name('initial_state:0')\n",
    "    final_state = loaded_graph.get_tensor_by_name('final_state:0')\n",
    "    probs = loaded_graph.get_tensor_by_name('probs:0')\n",
    "    return inputTensor, initial_state, final_state, probs\n",
    "\n",
    "\n",
    "\n",
    "\"\"\"\n",
    "DON'T MODIFY ANYTHING IN THIS CELL THAT IS BELOW THIS LINE\n",
    "\"\"\"\n",
    "tests.test_get_tensors(get_tensors)"
   ]
  },
  {
   "cell_type": "markdown",
   "metadata": {
    "deletable": true,
    "editable": true
   },
   "source": [
    "### Choose Word\n",
    "Implement the `pick_word()` function to select the next word using `probabilities`."
   ]
  },
  {
   "cell_type": "code",
   "execution_count": 34,
   "metadata": {
    "collapsed": false,
    "deletable": true,
    "editable": true
   },
   "outputs": [
    {
     "name": "stdout",
     "output_type": "stream",
     "text": [
      "Tests Passed\n"
     ]
    }
   ],
   "source": [
    "def pick_word(probabilities, int_to_vocab):\n",
    "    \"\"\"\n",
    "    Pick the next word in the generated text\n",
    "    :param probabilities: Probabilites of the next word\n",
    "    :param int_to_vocab: Dictionary of word ids as the keys and words as the values\n",
    "    :return: String of the predicted word\n",
    "    \"\"\"\n",
    "    # TODO: Implement Function\n",
    "    idx = np.argmax(probabilities)\n",
    "    word = int_to_vocab[idx]\n",
    "    return word\n",
    "\n",
    "\n",
    "\"\"\"\n",
    "DON'T MODIFY ANYTHING IN THIS CELL THAT IS BELOW THIS LINE\n",
    "\"\"\"\n",
    "tests.test_pick_word(pick_word)"
   ]
  },
  {
   "cell_type": "markdown",
   "metadata": {
    "deletable": true,
    "editable": true
   },
   "source": [
    "## Generate TV Script\n",
    "This will generate the TV script for you.  Set `gen_length` to the length of TV script you want to generate."
   ]
  },
  {
   "cell_type": "code",
   "execution_count": 37,
   "metadata": {
    "collapsed": false,
    "deletable": true,
    "editable": true
   },
   "outputs": [
    {
     "name": "stdout",
     "output_type": "stream",
     "text": [
      "homer_simpson:(bitterly) oh, i have to cheat.\n",
      "moe_szyslak:(emotional) oh, i forgot to germs.\n",
      "moe_szyslak:(reading)\n",
      "ned_flanders:(moan) gee, i forgot to be dough..\n",
      "moe_szyslak:(piling) oh, i can't meet me.\n",
      "homer_simpson:(reading)\n",
      "moe_szyslak:(moan) santeria, moe.\n",
      "moe_szyslak:(sotto) i guess you know, i remember you know.\n",
      "moe_szyslak:(prompting) i don't wanna know.\n",
      "homer_simpson:(peeved)\n",
      "moe_szyslak:(sagely)\n",
      "homer_simpson:(peeved)\n",
      "homer_simpson:(sings) oh, i-i'm do you know, i-i'm you guys, i brought dangerous.\n",
      "moe_szyslak:(toasting) i can't know.\n",
      "homer_simpson:(kindly)\n",
      "moe_szyslak:(piling) oh, i dunno, i dunno.\n",
      "homer_simpson:(beligerent) okay, i can't know you get a fevered musical, then then i got a d.\n",
      "moe_szyslak:(normal) wow, i dunno, i swear, i know you guys, i don't liven.\n",
      "\n"
     ]
    }
   ],
   "source": [
    "gen_length = 200\n",
    "# homer_simpson, moe_szyslak, or Barney_Gumble\n",
    "prime_word = 'homer_simpson'\n",
    "\n",
    "\"\"\"\n",
    "DON'T MODIFY ANYTHING IN THIS CELL THAT IS BELOW THIS LINE\n",
    "\"\"\"\n",
    "loaded_graph = tf.Graph()\n",
    "with tf.Session(graph=loaded_graph) as sess:\n",
    "    # Load saved model\n",
    "    loader = tf.train.import_meta_graph(load_dir + '.meta')\n",
    "    loader.restore(sess, load_dir)\n",
    "\n",
    "    # Get Tensors from loaded model\n",
    "    input_text, initial_state, final_state, probs = get_tensors(loaded_graph)\n",
    "\n",
    "    # Sentences generation setup\n",
    "    gen_sentences = [prime_word + ':']\n",
    "    prev_state = sess.run(initial_state, {input_text: np.array([[1]])})\n",
    "\n",
    "    # Generate sentences\n",
    "    for n in range(gen_length):\n",
    "        # Dynamic Input\n",
    "        dyn_input = [[vocab_to_int[word] for word in gen_sentences[-seq_length:]]]\n",
    "        dyn_seq_length = len(dyn_input[0])\n",
    "\n",
    "        # Get Prediction\n",
    "        probabilities, prev_state = sess.run(\n",
    "            [probs, final_state],\n",
    "            {input_text: dyn_input, initial_state: prev_state})\n",
    "        \n",
    "        pred_word = pick_word(probabilities[dyn_seq_length-1], int_to_vocab)\n",
    "\n",
    "        gen_sentences.append(pred_word)\n",
    "    \n",
    "    # Remove tokens\n",
    "    tv_script = ' '.join(gen_sentences)\n",
    "    for key, token in token_dict.items():\n",
    "        ending = ' ' if key in ['\\n', '(', '\"'] else ''\n",
    "        tv_script = tv_script.replace(' ' + token.lower(), key)\n",
    "    tv_script = tv_script.replace('\\n ', '\\n')\n",
    "    tv_script = tv_script.replace('( ', '(')\n",
    "        \n",
    "    print(tv_script)"
   ]
  },
  {
   "cell_type": "markdown",
   "metadata": {
    "deletable": true,
    "editable": true
   },
   "source": [
    "# The TV Script is Nonsensical\n",
    "It's ok if the TV script doesn't make any sense.  We trained on less than a megabyte of text.  In order to get good results, you'll have to use a smaller vocabulary or get more data.  Luckly there's more data!  As we mentioned in the begging of this project, this is a subset of [another dataset](https://www.kaggle.com/wcukierski/the-simpsons-by-the-data).  We didn't have you train on all the data, because that would take too long.  However, you are free to train your neural network on all the data.  After you complete the project, of course.\n",
    "# Submitting This Project\n",
    "When submitting this project, make sure to run all the cells before saving the notebook. Save the notebook file as \"dlnd_tv_script_generation.ipynb\" and save it as a HTML file under \"File\" -> \"Download as\". Include the \"helper.py\" and \"problem_unittests.py\" files in your submission."
   ]
  }
 ],
 "metadata": {
  "kernelspec": {
   "display_name": "Python 3",
   "language": "python",
   "name": "python3"
  },
  "language_info": {
   "codemirror_mode": {
    "name": "ipython",
    "version": 3
   },
   "file_extension": ".py",
   "mimetype": "text/x-python",
   "name": "python",
   "nbconvert_exporter": "python",
   "pygments_lexer": "ipython3",
   "version": "3.6.2"
  },
  "widgets": {
   "state": {},
   "version": "1.1.2"
  }
 },
 "nbformat": 4,
 "nbformat_minor": 1
}
